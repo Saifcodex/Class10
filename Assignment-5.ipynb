{
 "cells": [
  {
   "cell_type": "code",
   "execution_count": 2,
   "id": "8e10aefa",
   "metadata": {},
   "outputs": [],
   "source": [
    "import pandas as pd\n",
    "import numpy as np\n",
    "import matplotlib.pyplot as plt\n",
    "import seaborn as sns"
   ]
  },
  {
   "cell_type": "code",
   "execution_count": 3,
   "id": "495b7cf3",
   "metadata": {},
   "outputs": [],
   "source": [
    "df =pd.read_excel('insurance.xlsx')"
   ]
  },
  {
   "cell_type": "markdown",
   "id": "b1b1c5b8",
   "metadata": {},
   "source": [
    "# Data Analysis"
   ]
  },
  {
   "cell_type": "code",
   "execution_count": 4,
   "id": "67267c48",
   "metadata": {},
   "outputs": [
    {
     "data": {
      "text/html": [
       "<div>\n",
       "<style scoped>\n",
       "    .dataframe tbody tr th:only-of-type {\n",
       "        vertical-align: middle;\n",
       "    }\n",
       "\n",
       "    .dataframe tbody tr th {\n",
       "        vertical-align: top;\n",
       "    }\n",
       "\n",
       "    .dataframe thead th {\n",
       "        text-align: right;\n",
       "    }\n",
       "</style>\n",
       "<table border=\"1\" class=\"dataframe\">\n",
       "  <thead>\n",
       "    <tr style=\"text-align: right;\">\n",
       "      <th></th>\n",
       "      <th>age</th>\n",
       "      <th>sex</th>\n",
       "      <th>bmi</th>\n",
       "      <th>children</th>\n",
       "      <th>smoker</th>\n",
       "      <th>region</th>\n",
       "      <th>charges</th>\n",
       "    </tr>\n",
       "  </thead>\n",
       "  <tbody>\n",
       "    <tr>\n",
       "      <th>0</th>\n",
       "      <td>19</td>\n",
       "      <td>female</td>\n",
       "      <td>27.900</td>\n",
       "      <td>0</td>\n",
       "      <td>yes</td>\n",
       "      <td>southwest</td>\n",
       "      <td>16884.92400</td>\n",
       "    </tr>\n",
       "    <tr>\n",
       "      <th>1</th>\n",
       "      <td>18</td>\n",
       "      <td>male</td>\n",
       "      <td>33.770</td>\n",
       "      <td>1</td>\n",
       "      <td>no</td>\n",
       "      <td>southeast</td>\n",
       "      <td>1725.55230</td>\n",
       "    </tr>\n",
       "    <tr>\n",
       "      <th>2</th>\n",
       "      <td>28</td>\n",
       "      <td>male</td>\n",
       "      <td>33.000</td>\n",
       "      <td>3</td>\n",
       "      <td>no</td>\n",
       "      <td>southeast</td>\n",
       "      <td>4449.46200</td>\n",
       "    </tr>\n",
       "    <tr>\n",
       "      <th>3</th>\n",
       "      <td>33</td>\n",
       "      <td>male</td>\n",
       "      <td>22.705</td>\n",
       "      <td>0</td>\n",
       "      <td>no</td>\n",
       "      <td>northwest</td>\n",
       "      <td>21984.47061</td>\n",
       "    </tr>\n",
       "    <tr>\n",
       "      <th>4</th>\n",
       "      <td>32</td>\n",
       "      <td>male</td>\n",
       "      <td>28.880</td>\n",
       "      <td>0</td>\n",
       "      <td>no</td>\n",
       "      <td>northwest</td>\n",
       "      <td>3866.85520</td>\n",
       "    </tr>\n",
       "  </tbody>\n",
       "</table>\n",
       "</div>"
      ],
      "text/plain": [
       "   age     sex     bmi  children smoker     region      charges\n",
       "0   19  female  27.900         0    yes  southwest  16884.92400\n",
       "1   18    male  33.770         1     no  southeast   1725.55230\n",
       "2   28    male  33.000         3     no  southeast   4449.46200\n",
       "3   33    male  22.705         0     no  northwest  21984.47061\n",
       "4   32    male  28.880         0     no  northwest   3866.85520"
      ]
     },
     "execution_count": 4,
     "metadata": {},
     "output_type": "execute_result"
    }
   ],
   "source": [
    "df.head()"
   ]
  },
  {
   "cell_type": "code",
   "execution_count": 5,
   "id": "245d3239",
   "metadata": {},
   "outputs": [
    {
     "name": "stdout",
     "output_type": "stream",
     "text": [
      "<class 'pandas.core.frame.DataFrame'>\n",
      "RangeIndex: 1338 entries, 0 to 1337\n",
      "Data columns (total 7 columns):\n",
      " #   Column    Non-Null Count  Dtype  \n",
      "---  ------    --------------  -----  \n",
      " 0   age       1338 non-null   int64  \n",
      " 1   sex       1338 non-null   object \n",
      " 2   bmi       1338 non-null   float64\n",
      " 3   children  1338 non-null   int64  \n",
      " 4   smoker    1338 non-null   object \n",
      " 5   region    1338 non-null   object \n",
      " 6   charges   1338 non-null   float64\n",
      "dtypes: float64(2), int64(2), object(3)\n",
      "memory usage: 73.3+ KB\n"
     ]
    }
   ],
   "source": [
    "df.info()"
   ]
  },
  {
   "cell_type": "code",
   "execution_count": 6,
   "id": "45b83d94",
   "metadata": {},
   "outputs": [
    {
     "data": {
      "text/plain": [
       "age         0\n",
       "sex         0\n",
       "bmi         0\n",
       "children    0\n",
       "smoker      0\n",
       "region      0\n",
       "charges     0\n",
       "dtype: int64"
      ]
     },
     "execution_count": 6,
     "metadata": {},
     "output_type": "execute_result"
    }
   ],
   "source": [
    "df.isna().sum()"
   ]
  },
  {
   "cell_type": "code",
   "execution_count": 7,
   "id": "1c7b7903",
   "metadata": {},
   "outputs": [
    {
     "data": {
      "text/plain": [
       "age           47\n",
       "sex            2\n",
       "bmi          548\n",
       "children       6\n",
       "smoker         2\n",
       "region         4\n",
       "charges     1337\n",
       "dtype: int64"
      ]
     },
     "execution_count": 7,
     "metadata": {},
     "output_type": "execute_result"
    }
   ],
   "source": [
    "df.nunique()"
   ]
  },
  {
   "cell_type": "code",
   "execution_count": 8,
   "id": "59ee7807",
   "metadata": {},
   "outputs": [
    {
     "data": {
      "text/plain": [
       "(1338, 7)"
      ]
     },
     "execution_count": 8,
     "metadata": {},
     "output_type": "execute_result"
    }
   ],
   "source": [
    "df.shape"
   ]
  },
  {
   "cell_type": "markdown",
   "id": "40baaf5d",
   "metadata": {},
   "source": [
    "# One Hot Encoding"
   ]
  },
  {
   "cell_type": "code",
   "execution_count": 9,
   "id": "0fdc22bd",
   "metadata": {},
   "outputs": [],
   "source": [
    "df = pd.get_dummies(df,drop_first='True')"
   ]
  },
  {
   "cell_type": "code",
   "execution_count": 10,
   "id": "4ea156d3",
   "metadata": {},
   "outputs": [
    {
     "data": {
      "text/html": [
       "<div>\n",
       "<style scoped>\n",
       "    .dataframe tbody tr th:only-of-type {\n",
       "        vertical-align: middle;\n",
       "    }\n",
       "\n",
       "    .dataframe tbody tr th {\n",
       "        vertical-align: top;\n",
       "    }\n",
       "\n",
       "    .dataframe thead th {\n",
       "        text-align: right;\n",
       "    }\n",
       "</style>\n",
       "<table border=\"1\" class=\"dataframe\">\n",
       "  <thead>\n",
       "    <tr style=\"text-align: right;\">\n",
       "      <th></th>\n",
       "      <th>age</th>\n",
       "      <th>bmi</th>\n",
       "      <th>children</th>\n",
       "      <th>charges</th>\n",
       "      <th>sex_male</th>\n",
       "      <th>smoker_yes</th>\n",
       "      <th>region_northwest</th>\n",
       "      <th>region_southeast</th>\n",
       "      <th>region_southwest</th>\n",
       "    </tr>\n",
       "  </thead>\n",
       "  <tbody>\n",
       "    <tr>\n",
       "      <th>0</th>\n",
       "      <td>19</td>\n",
       "      <td>27.900</td>\n",
       "      <td>0</td>\n",
       "      <td>16884.92400</td>\n",
       "      <td>False</td>\n",
       "      <td>True</td>\n",
       "      <td>False</td>\n",
       "      <td>False</td>\n",
       "      <td>True</td>\n",
       "    </tr>\n",
       "    <tr>\n",
       "      <th>1</th>\n",
       "      <td>18</td>\n",
       "      <td>33.770</td>\n",
       "      <td>1</td>\n",
       "      <td>1725.55230</td>\n",
       "      <td>True</td>\n",
       "      <td>False</td>\n",
       "      <td>False</td>\n",
       "      <td>True</td>\n",
       "      <td>False</td>\n",
       "    </tr>\n",
       "    <tr>\n",
       "      <th>2</th>\n",
       "      <td>28</td>\n",
       "      <td>33.000</td>\n",
       "      <td>3</td>\n",
       "      <td>4449.46200</td>\n",
       "      <td>True</td>\n",
       "      <td>False</td>\n",
       "      <td>False</td>\n",
       "      <td>True</td>\n",
       "      <td>False</td>\n",
       "    </tr>\n",
       "    <tr>\n",
       "      <th>3</th>\n",
       "      <td>33</td>\n",
       "      <td>22.705</td>\n",
       "      <td>0</td>\n",
       "      <td>21984.47061</td>\n",
       "      <td>True</td>\n",
       "      <td>False</td>\n",
       "      <td>True</td>\n",
       "      <td>False</td>\n",
       "      <td>False</td>\n",
       "    </tr>\n",
       "    <tr>\n",
       "      <th>4</th>\n",
       "      <td>32</td>\n",
       "      <td>28.880</td>\n",
       "      <td>0</td>\n",
       "      <td>3866.85520</td>\n",
       "      <td>True</td>\n",
       "      <td>False</td>\n",
       "      <td>True</td>\n",
       "      <td>False</td>\n",
       "      <td>False</td>\n",
       "    </tr>\n",
       "  </tbody>\n",
       "</table>\n",
       "</div>"
      ],
      "text/plain": [
       "   age     bmi  children      charges  sex_male  smoker_yes  region_northwest  \\\n",
       "0   19  27.900         0  16884.92400     False        True             False   \n",
       "1   18  33.770         1   1725.55230      True       False             False   \n",
       "2   28  33.000         3   4449.46200      True       False             False   \n",
       "3   33  22.705         0  21984.47061      True       False              True   \n",
       "4   32  28.880         0   3866.85520      True       False              True   \n",
       "\n",
       "   region_southeast  region_southwest  \n",
       "0             False              True  \n",
       "1              True             False  \n",
       "2              True             False  \n",
       "3             False             False  \n",
       "4             False             False  "
      ]
     },
     "execution_count": 10,
     "metadata": {},
     "output_type": "execute_result"
    }
   ],
   "source": [
    "df.head()"
   ]
  },
  {
   "cell_type": "code",
   "execution_count": 11,
   "id": "d17076c7",
   "metadata": {},
   "outputs": [],
   "source": [
    "df =df.astype(int)"
   ]
  },
  {
   "cell_type": "code",
   "execution_count": 12,
   "id": "6ccc4d7c",
   "metadata": {},
   "outputs": [
    {
     "data": {
      "text/html": [
       "<div>\n",
       "<style scoped>\n",
       "    .dataframe tbody tr th:only-of-type {\n",
       "        vertical-align: middle;\n",
       "    }\n",
       "\n",
       "    .dataframe tbody tr th {\n",
       "        vertical-align: top;\n",
       "    }\n",
       "\n",
       "    .dataframe thead th {\n",
       "        text-align: right;\n",
       "    }\n",
       "</style>\n",
       "<table border=\"1\" class=\"dataframe\">\n",
       "  <thead>\n",
       "    <tr style=\"text-align: right;\">\n",
       "      <th></th>\n",
       "      <th>age</th>\n",
       "      <th>bmi</th>\n",
       "      <th>children</th>\n",
       "      <th>charges</th>\n",
       "      <th>sex_male</th>\n",
       "      <th>smoker_yes</th>\n",
       "      <th>region_northwest</th>\n",
       "      <th>region_southeast</th>\n",
       "      <th>region_southwest</th>\n",
       "    </tr>\n",
       "  </thead>\n",
       "  <tbody>\n",
       "    <tr>\n",
       "      <th>0</th>\n",
       "      <td>19</td>\n",
       "      <td>27</td>\n",
       "      <td>0</td>\n",
       "      <td>16884</td>\n",
       "      <td>0</td>\n",
       "      <td>1</td>\n",
       "      <td>0</td>\n",
       "      <td>0</td>\n",
       "      <td>1</td>\n",
       "    </tr>\n",
       "    <tr>\n",
       "      <th>1</th>\n",
       "      <td>18</td>\n",
       "      <td>33</td>\n",
       "      <td>1</td>\n",
       "      <td>1725</td>\n",
       "      <td>1</td>\n",
       "      <td>0</td>\n",
       "      <td>0</td>\n",
       "      <td>1</td>\n",
       "      <td>0</td>\n",
       "    </tr>\n",
       "    <tr>\n",
       "      <th>2</th>\n",
       "      <td>28</td>\n",
       "      <td>33</td>\n",
       "      <td>3</td>\n",
       "      <td>4449</td>\n",
       "      <td>1</td>\n",
       "      <td>0</td>\n",
       "      <td>0</td>\n",
       "      <td>1</td>\n",
       "      <td>0</td>\n",
       "    </tr>\n",
       "    <tr>\n",
       "      <th>3</th>\n",
       "      <td>33</td>\n",
       "      <td>22</td>\n",
       "      <td>0</td>\n",
       "      <td>21984</td>\n",
       "      <td>1</td>\n",
       "      <td>0</td>\n",
       "      <td>1</td>\n",
       "      <td>0</td>\n",
       "      <td>0</td>\n",
       "    </tr>\n",
       "    <tr>\n",
       "      <th>4</th>\n",
       "      <td>32</td>\n",
       "      <td>28</td>\n",
       "      <td>0</td>\n",
       "      <td>3866</td>\n",
       "      <td>1</td>\n",
       "      <td>0</td>\n",
       "      <td>1</td>\n",
       "      <td>0</td>\n",
       "      <td>0</td>\n",
       "    </tr>\n",
       "  </tbody>\n",
       "</table>\n",
       "</div>"
      ],
      "text/plain": [
       "   age  bmi  children  charges  sex_male  smoker_yes  region_northwest  \\\n",
       "0   19   27         0    16884         0           1                 0   \n",
       "1   18   33         1     1725         1           0                 0   \n",
       "2   28   33         3     4449         1           0                 0   \n",
       "3   33   22         0    21984         1           0                 1   \n",
       "4   32   28         0     3866         1           0                 1   \n",
       "\n",
       "   region_southeast  region_southwest  \n",
       "0                 0                 1  \n",
       "1                 1                 0  \n",
       "2                 1                 0  \n",
       "3                 0                 0  \n",
       "4                 0                 0  "
      ]
     },
     "execution_count": 12,
     "metadata": {},
     "output_type": "execute_result"
    }
   ],
   "source": [
    "df.head()"
   ]
  },
  {
   "cell_type": "code",
   "execution_count": 13,
   "id": "e2675e99",
   "metadata": {},
   "outputs": [
    {
     "data": {
      "text/html": [
       "<div>\n",
       "<style scoped>\n",
       "    .dataframe tbody tr th:only-of-type {\n",
       "        vertical-align: middle;\n",
       "    }\n",
       "\n",
       "    .dataframe tbody tr th {\n",
       "        vertical-align: top;\n",
       "    }\n",
       "\n",
       "    .dataframe thead th {\n",
       "        text-align: right;\n",
       "    }\n",
       "</style>\n",
       "<table border=\"1\" class=\"dataframe\">\n",
       "  <thead>\n",
       "    <tr style=\"text-align: right;\">\n",
       "      <th></th>\n",
       "      <th>age</th>\n",
       "      <th>bmi</th>\n",
       "      <th>children</th>\n",
       "      <th>charges</th>\n",
       "      <th>sex_male</th>\n",
       "      <th>smoker_yes</th>\n",
       "      <th>region_northwest</th>\n",
       "      <th>region_southeast</th>\n",
       "      <th>region_southwest</th>\n",
       "    </tr>\n",
       "  </thead>\n",
       "  <tbody>\n",
       "    <tr>\n",
       "      <th>count</th>\n",
       "      <td>1338.000000</td>\n",
       "      <td>1338.000000</td>\n",
       "      <td>1338.000000</td>\n",
       "      <td>1338.000000</td>\n",
       "      <td>1338.000000</td>\n",
       "      <td>1338.000000</td>\n",
       "      <td>1338.000000</td>\n",
       "      <td>1338.000000</td>\n",
       "      <td>1338.000000</td>\n",
       "    </tr>\n",
       "    <tr>\n",
       "      <th>mean</th>\n",
       "      <td>39.207025</td>\n",
       "      <td>30.169656</td>\n",
       "      <td>1.094918</td>\n",
       "      <td>13269.928999</td>\n",
       "      <td>0.505232</td>\n",
       "      <td>0.204783</td>\n",
       "      <td>0.242900</td>\n",
       "      <td>0.272048</td>\n",
       "      <td>0.242900</td>\n",
       "    </tr>\n",
       "    <tr>\n",
       "      <th>std</th>\n",
       "      <td>14.049960</td>\n",
       "      <td>6.119875</td>\n",
       "      <td>1.205493</td>\n",
       "      <td>12110.012755</td>\n",
       "      <td>0.500160</td>\n",
       "      <td>0.403694</td>\n",
       "      <td>0.428995</td>\n",
       "      <td>0.445181</td>\n",
       "      <td>0.428995</td>\n",
       "    </tr>\n",
       "    <tr>\n",
       "      <th>min</th>\n",
       "      <td>18.000000</td>\n",
       "      <td>15.000000</td>\n",
       "      <td>0.000000</td>\n",
       "      <td>1121.000000</td>\n",
       "      <td>0.000000</td>\n",
       "      <td>0.000000</td>\n",
       "      <td>0.000000</td>\n",
       "      <td>0.000000</td>\n",
       "      <td>0.000000</td>\n",
       "    </tr>\n",
       "    <tr>\n",
       "      <th>25%</th>\n",
       "      <td>27.000000</td>\n",
       "      <td>26.000000</td>\n",
       "      <td>0.000000</td>\n",
       "      <td>4740.000000</td>\n",
       "      <td>0.000000</td>\n",
       "      <td>0.000000</td>\n",
       "      <td>0.000000</td>\n",
       "      <td>0.000000</td>\n",
       "      <td>0.000000</td>\n",
       "    </tr>\n",
       "    <tr>\n",
       "      <th>50%</th>\n",
       "      <td>39.000000</td>\n",
       "      <td>30.000000</td>\n",
       "      <td>1.000000</td>\n",
       "      <td>9381.500000</td>\n",
       "      <td>1.000000</td>\n",
       "      <td>0.000000</td>\n",
       "      <td>0.000000</td>\n",
       "      <td>0.000000</td>\n",
       "      <td>0.000000</td>\n",
       "    </tr>\n",
       "    <tr>\n",
       "      <th>75%</th>\n",
       "      <td>51.000000</td>\n",
       "      <td>34.000000</td>\n",
       "      <td>2.000000</td>\n",
       "      <td>16639.250000</td>\n",
       "      <td>1.000000</td>\n",
       "      <td>0.000000</td>\n",
       "      <td>0.000000</td>\n",
       "      <td>1.000000</td>\n",
       "      <td>0.000000</td>\n",
       "    </tr>\n",
       "    <tr>\n",
       "      <th>max</th>\n",
       "      <td>64.000000</td>\n",
       "      <td>53.000000</td>\n",
       "      <td>5.000000</td>\n",
       "      <td>63770.000000</td>\n",
       "      <td>1.000000</td>\n",
       "      <td>1.000000</td>\n",
       "      <td>1.000000</td>\n",
       "      <td>1.000000</td>\n",
       "      <td>1.000000</td>\n",
       "    </tr>\n",
       "  </tbody>\n",
       "</table>\n",
       "</div>"
      ],
      "text/plain": [
       "               age          bmi     children       charges     sex_male  \\\n",
       "count  1338.000000  1338.000000  1338.000000   1338.000000  1338.000000   \n",
       "mean     39.207025    30.169656     1.094918  13269.928999     0.505232   \n",
       "std      14.049960     6.119875     1.205493  12110.012755     0.500160   \n",
       "min      18.000000    15.000000     0.000000   1121.000000     0.000000   \n",
       "25%      27.000000    26.000000     0.000000   4740.000000     0.000000   \n",
       "50%      39.000000    30.000000     1.000000   9381.500000     1.000000   \n",
       "75%      51.000000    34.000000     2.000000  16639.250000     1.000000   \n",
       "max      64.000000    53.000000     5.000000  63770.000000     1.000000   \n",
       "\n",
       "        smoker_yes  region_northwest  region_southeast  region_southwest  \n",
       "count  1338.000000       1338.000000       1338.000000       1338.000000  \n",
       "mean      0.204783          0.242900          0.272048          0.242900  \n",
       "std       0.403694          0.428995          0.445181          0.428995  \n",
       "min       0.000000          0.000000          0.000000          0.000000  \n",
       "25%       0.000000          0.000000          0.000000          0.000000  \n",
       "50%       0.000000          0.000000          0.000000          0.000000  \n",
       "75%       0.000000          0.000000          1.000000          0.000000  \n",
       "max       1.000000          1.000000          1.000000          1.000000  "
      ]
     },
     "execution_count": 13,
     "metadata": {},
     "output_type": "execute_result"
    }
   ],
   "source": [
    "df.describe()"
   ]
  },
  {
   "cell_type": "code",
   "execution_count": 14,
   "id": "c9e8b687",
   "metadata": {},
   "outputs": [
    {
     "data": {
      "text/html": [
       "<div>\n",
       "<style scoped>\n",
       "    .dataframe tbody tr th:only-of-type {\n",
       "        vertical-align: middle;\n",
       "    }\n",
       "\n",
       "    .dataframe tbody tr th {\n",
       "        vertical-align: top;\n",
       "    }\n",
       "\n",
       "    .dataframe thead th {\n",
       "        text-align: right;\n",
       "    }\n",
       "</style>\n",
       "<table border=\"1\" class=\"dataframe\">\n",
       "  <thead>\n",
       "    <tr style=\"text-align: right;\">\n",
       "      <th></th>\n",
       "      <th>count</th>\n",
       "      <th>mean</th>\n",
       "      <th>std</th>\n",
       "      <th>min</th>\n",
       "      <th>25%</th>\n",
       "      <th>50%</th>\n",
       "      <th>75%</th>\n",
       "      <th>max</th>\n",
       "    </tr>\n",
       "  </thead>\n",
       "  <tbody>\n",
       "    <tr>\n",
       "      <th>age</th>\n",
       "      <td>1338.0</td>\n",
       "      <td>39.207025</td>\n",
       "      <td>14.049960</td>\n",
       "      <td>18.0</td>\n",
       "      <td>27.0</td>\n",
       "      <td>39.0</td>\n",
       "      <td>51.00</td>\n",
       "      <td>64.0</td>\n",
       "    </tr>\n",
       "    <tr>\n",
       "      <th>bmi</th>\n",
       "      <td>1338.0</td>\n",
       "      <td>30.169656</td>\n",
       "      <td>6.119875</td>\n",
       "      <td>15.0</td>\n",
       "      <td>26.0</td>\n",
       "      <td>30.0</td>\n",
       "      <td>34.00</td>\n",
       "      <td>53.0</td>\n",
       "    </tr>\n",
       "    <tr>\n",
       "      <th>children</th>\n",
       "      <td>1338.0</td>\n",
       "      <td>1.094918</td>\n",
       "      <td>1.205493</td>\n",
       "      <td>0.0</td>\n",
       "      <td>0.0</td>\n",
       "      <td>1.0</td>\n",
       "      <td>2.00</td>\n",
       "      <td>5.0</td>\n",
       "    </tr>\n",
       "    <tr>\n",
       "      <th>charges</th>\n",
       "      <td>1338.0</td>\n",
       "      <td>13269.928999</td>\n",
       "      <td>12110.012755</td>\n",
       "      <td>1121.0</td>\n",
       "      <td>4740.0</td>\n",
       "      <td>9381.5</td>\n",
       "      <td>16639.25</td>\n",
       "      <td>63770.0</td>\n",
       "    </tr>\n",
       "    <tr>\n",
       "      <th>sex_male</th>\n",
       "      <td>1338.0</td>\n",
       "      <td>0.505232</td>\n",
       "      <td>0.500160</td>\n",
       "      <td>0.0</td>\n",
       "      <td>0.0</td>\n",
       "      <td>1.0</td>\n",
       "      <td>1.00</td>\n",
       "      <td>1.0</td>\n",
       "    </tr>\n",
       "    <tr>\n",
       "      <th>smoker_yes</th>\n",
       "      <td>1338.0</td>\n",
       "      <td>0.204783</td>\n",
       "      <td>0.403694</td>\n",
       "      <td>0.0</td>\n",
       "      <td>0.0</td>\n",
       "      <td>0.0</td>\n",
       "      <td>0.00</td>\n",
       "      <td>1.0</td>\n",
       "    </tr>\n",
       "    <tr>\n",
       "      <th>region_northwest</th>\n",
       "      <td>1338.0</td>\n",
       "      <td>0.242900</td>\n",
       "      <td>0.428995</td>\n",
       "      <td>0.0</td>\n",
       "      <td>0.0</td>\n",
       "      <td>0.0</td>\n",
       "      <td>0.00</td>\n",
       "      <td>1.0</td>\n",
       "    </tr>\n",
       "    <tr>\n",
       "      <th>region_southeast</th>\n",
       "      <td>1338.0</td>\n",
       "      <td>0.272048</td>\n",
       "      <td>0.445181</td>\n",
       "      <td>0.0</td>\n",
       "      <td>0.0</td>\n",
       "      <td>0.0</td>\n",
       "      <td>1.00</td>\n",
       "      <td>1.0</td>\n",
       "    </tr>\n",
       "    <tr>\n",
       "      <th>region_southwest</th>\n",
       "      <td>1338.0</td>\n",
       "      <td>0.242900</td>\n",
       "      <td>0.428995</td>\n",
       "      <td>0.0</td>\n",
       "      <td>0.0</td>\n",
       "      <td>0.0</td>\n",
       "      <td>0.00</td>\n",
       "      <td>1.0</td>\n",
       "    </tr>\n",
       "  </tbody>\n",
       "</table>\n",
       "</div>"
      ],
      "text/plain": [
       "                   count          mean           std     min     25%     50%  \\\n",
       "age               1338.0     39.207025     14.049960    18.0    27.0    39.0   \n",
       "bmi               1338.0     30.169656      6.119875    15.0    26.0    30.0   \n",
       "children          1338.0      1.094918      1.205493     0.0     0.0     1.0   \n",
       "charges           1338.0  13269.928999  12110.012755  1121.0  4740.0  9381.5   \n",
       "sex_male          1338.0      0.505232      0.500160     0.0     0.0     1.0   \n",
       "smoker_yes        1338.0      0.204783      0.403694     0.0     0.0     0.0   \n",
       "region_northwest  1338.0      0.242900      0.428995     0.0     0.0     0.0   \n",
       "region_southeast  1338.0      0.272048      0.445181     0.0     0.0     0.0   \n",
       "region_southwest  1338.0      0.242900      0.428995     0.0     0.0     0.0   \n",
       "\n",
       "                       75%      max  \n",
       "age                  51.00     64.0  \n",
       "bmi                  34.00     53.0  \n",
       "children              2.00      5.0  \n",
       "charges           16639.25  63770.0  \n",
       "sex_male              1.00      1.0  \n",
       "smoker_yes            0.00      1.0  \n",
       "region_northwest      0.00      1.0  \n",
       "region_southeast      1.00      1.0  \n",
       "region_southwest      0.00      1.0  "
      ]
     },
     "execution_count": 14,
     "metadata": {},
     "output_type": "execute_result"
    }
   ],
   "source": [
    "df.describe().T"
   ]
  },
  {
   "cell_type": "markdown",
   "id": "939605b2",
   "metadata": {},
   "source": [
    "# Data Visualization"
   ]
  },
  {
   "cell_type": "code",
   "execution_count": 15,
   "id": "bf1a451b",
   "metadata": {},
   "outputs": [
    {
     "data": {
      "text/plain": [
       "<seaborn.axisgrid.FacetGrid at 0x20e26fa4ad0>"
      ]
     },
     "execution_count": 15,
     "metadata": {},
     "output_type": "execute_result"
    },
    {
     "data": {
      "text/plain": [
       "<Figure size 2000x2000 with 0 Axes>"
      ]
     },
     "metadata": {},
     "output_type": "display_data"
    },
    {
     "data": {
      "image/png": "[encoded data removed]",
      "text/plain": [
       "<Figure size 500x500 with 1 Axes>"
      ]
     },
     "metadata": {},
     "output_type": "display_data"
    }
   ],
   "source": [
    "plt.figure(figsize=(20,20))\n",
    "sns.displot(df['charges'])"
   ]
  },
  {
   "cell_type": "code",
   "execution_count": 16,
   "id": "36f46373",
   "metadata": {},
   "outputs": [
    {
     "data": {
      "text/plain": [
       "<Axes: >"
      ]
     },
     "execution_count": 16,
     "metadata": {},
     "output_type": "execute_result"
    },
    {
     "data": {
      "image/png": "[encoded data removed]",
      "text/plain": [
       "<Figure size 2000x2000 with 2 Axes>"
      ]
     },
     "metadata": {},
     "output_type": "display_data"
    }
   ],
   "source": [
    "plt.figure(figsize=(20,20))\n",
    "sns.heatmap(df.corr(),annot=True)"
   ]
  },
  {
   "cell_type": "markdown",
   "id": "68ac2acc",
   "metadata": {},
   "source": [
    "# Separate X Y"
   ]
  },
  {
   "cell_type": "code",
   "execution_count": 17,
   "id": "e752562e",
   "metadata": {},
   "outputs": [],
   "source": [
    "x = df.drop('charges',axis=1)\n",
    "y=df['charges']"
   ]
  },
  {
   "cell_type": "markdown",
   "id": "1cdcaaed",
   "metadata": {},
   "source": [
    "# Train Model"
   ]
  },
  {
   "cell_type": "code",
   "execution_count": 18,
   "id": "925b8242",
   "metadata": {},
   "outputs": [],
   "source": [
    "from sklearn.model_selection import train_test_split as tts"
   ]
  },
  {
   "cell_type": "code",
   "execution_count": 19,
   "id": "a5503e59",
   "metadata": {},
   "outputs": [],
   "source": [
    "xtrain,xtest,ytrain,ytest = tts(x,y,test_size = 0.3 , random_state =54)"
   ]
  },
  {
   "cell_type": "code",
   "execution_count": 20,
   "id": "56aed454",
   "metadata": {},
   "outputs": [
    {
     "data": {
      "text/html": [
       "<div>\n",
       "<style scoped>\n",
       "    .dataframe tbody tr th:only-of-type {\n",
       "        vertical-align: middle;\n",
       "    }\n",
       "\n",
       "    .dataframe tbody tr th {\n",
       "        vertical-align: top;\n",
       "    }\n",
       "\n",
       "    .dataframe thead th {\n",
       "        text-align: right;\n",
       "    }\n",
       "</style>\n",
       "<table border=\"1\" class=\"dataframe\">\n",
       "  <thead>\n",
       "    <tr style=\"text-align: right;\">\n",
       "      <th></th>\n",
       "      <th>age</th>\n",
       "      <th>bmi</th>\n",
       "      <th>children</th>\n",
       "      <th>sex_male</th>\n",
       "      <th>smoker_yes</th>\n",
       "      <th>region_northwest</th>\n",
       "      <th>region_southeast</th>\n",
       "      <th>region_southwest</th>\n",
       "    </tr>\n",
       "  </thead>\n",
       "  <tbody>\n",
       "    <tr>\n",
       "      <th>530</th>\n",
       "      <td>57</td>\n",
       "      <td>42</td>\n",
       "      <td>1</td>\n",
       "      <td>1</td>\n",
       "      <td>1</td>\n",
       "      <td>0</td>\n",
       "      <td>1</td>\n",
       "      <td>0</td>\n",
       "    </tr>\n",
       "    <tr>\n",
       "      <th>1137</th>\n",
       "      <td>26</td>\n",
       "      <td>22</td>\n",
       "      <td>0</td>\n",
       "      <td>0</td>\n",
       "      <td>0</td>\n",
       "      <td>1</td>\n",
       "      <td>0</td>\n",
       "      <td>0</td>\n",
       "    </tr>\n",
       "    <tr>\n",
       "      <th>194</th>\n",
       "      <td>18</td>\n",
       "      <td>34</td>\n",
       "      <td>0</td>\n",
       "      <td>1</td>\n",
       "      <td>0</td>\n",
       "      <td>0</td>\n",
       "      <td>1</td>\n",
       "      <td>0</td>\n",
       "    </tr>\n",
       "    <tr>\n",
       "      <th>702</th>\n",
       "      <td>53</td>\n",
       "      <td>41</td>\n",
       "      <td>0</td>\n",
       "      <td>1</td>\n",
       "      <td>0</td>\n",
       "      <td>0</td>\n",
       "      <td>1</td>\n",
       "      <td>0</td>\n",
       "    </tr>\n",
       "    <tr>\n",
       "      <th>245</th>\n",
       "      <td>54</td>\n",
       "      <td>30</td>\n",
       "      <td>0</td>\n",
       "      <td>1</td>\n",
       "      <td>0</td>\n",
       "      <td>1</td>\n",
       "      <td>0</td>\n",
       "      <td>0</td>\n",
       "    </tr>\n",
       "  </tbody>\n",
       "</table>\n",
       "</div>"
      ],
      "text/plain": [
       "      age  bmi  children  sex_male  smoker_yes  region_northwest  \\\n",
       "530    57   42         1         1           1                 0   \n",
       "1137   26   22         0         0           0                 1   \n",
       "194    18   34         0         1           0                 0   \n",
       "702    53   41         0         1           0                 0   \n",
       "245    54   30         0         1           0                 1   \n",
       "\n",
       "      region_southeast  region_southwest  \n",
       "530                  1                 0  \n",
       "1137                 0                 0  \n",
       "194                  1                 0  \n",
       "702                  1                 0  \n",
       "245                  0                 0  "
      ]
     },
     "execution_count": 20,
     "metadata": {},
     "output_type": "execute_result"
    }
   ],
   "source": [
    "xtrain.head()"
   ]
  },
  {
   "cell_type": "code",
   "execution_count": 21,
   "id": "f274003f",
   "metadata": {},
   "outputs": [
    {
     "data": {
      "text/plain": [
       "530     48675\n",
       "1137     3176\n",
       "194      1137\n",
       "702      9504\n",
       "245     24476\n",
       "Name: charges, dtype: int32"
      ]
     },
     "execution_count": 21,
     "metadata": {},
     "output_type": "execute_result"
    }
   ],
   "source": [
    "ytrain.head()"
   ]
  },
  {
   "cell_type": "code",
   "execution_count": 22,
   "id": "fea2e007",
   "metadata": {},
   "outputs": [
    {
     "data": {
      "text/html": [
       "<div>\n",
       "<style scoped>\n",
       "    .dataframe tbody tr th:only-of-type {\n",
       "        vertical-align: middle;\n",
       "    }\n",
       "\n",
       "    .dataframe tbody tr th {\n",
       "        vertical-align: top;\n",
       "    }\n",
       "\n",
       "    .dataframe thead th {\n",
       "        text-align: right;\n",
       "    }\n",
       "</style>\n",
       "<table border=\"1\" class=\"dataframe\">\n",
       "  <thead>\n",
       "    <tr style=\"text-align: right;\">\n",
       "      <th></th>\n",
       "      <th>age</th>\n",
       "      <th>bmi</th>\n",
       "      <th>children</th>\n",
       "      <th>sex_male</th>\n",
       "      <th>smoker_yes</th>\n",
       "      <th>region_northwest</th>\n",
       "      <th>region_southeast</th>\n",
       "      <th>region_southwest</th>\n",
       "    </tr>\n",
       "  </thead>\n",
       "  <tbody>\n",
       "    <tr>\n",
       "      <th>246</th>\n",
       "      <td>60</td>\n",
       "      <td>38</td>\n",
       "      <td>0</td>\n",
       "      <td>0</td>\n",
       "      <td>0</td>\n",
       "      <td>0</td>\n",
       "      <td>1</td>\n",
       "      <td>0</td>\n",
       "    </tr>\n",
       "    <tr>\n",
       "      <th>793</th>\n",
       "      <td>53</td>\n",
       "      <td>20</td>\n",
       "      <td>0</td>\n",
       "      <td>1</td>\n",
       "      <td>1</td>\n",
       "      <td>0</td>\n",
       "      <td>1</td>\n",
       "      <td>0</td>\n",
       "    </tr>\n",
       "    <tr>\n",
       "      <th>1175</th>\n",
       "      <td>22</td>\n",
       "      <td>27</td>\n",
       "      <td>0</td>\n",
       "      <td>0</td>\n",
       "      <td>0</td>\n",
       "      <td>0</td>\n",
       "      <td>0</td>\n",
       "      <td>1</td>\n",
       "    </tr>\n",
       "    <tr>\n",
       "      <th>467</th>\n",
       "      <td>56</td>\n",
       "      <td>33</td>\n",
       "      <td>2</td>\n",
       "      <td>0</td>\n",
       "      <td>0</td>\n",
       "      <td>1</td>\n",
       "      <td>0</td>\n",
       "      <td>0</td>\n",
       "    </tr>\n",
       "    <tr>\n",
       "      <th>356</th>\n",
       "      <td>46</td>\n",
       "      <td>43</td>\n",
       "      <td>3</td>\n",
       "      <td>1</td>\n",
       "      <td>0</td>\n",
       "      <td>0</td>\n",
       "      <td>1</td>\n",
       "      <td>0</td>\n",
       "    </tr>\n",
       "  </tbody>\n",
       "</table>\n",
       "</div>"
      ],
      "text/plain": [
       "      age  bmi  children  sex_male  smoker_yes  region_northwest  \\\n",
       "246    60   38         0         0           0                 0   \n",
       "793    53   20         0         1           1                 0   \n",
       "1175   22   27         0         0           0                 0   \n",
       "467    56   33         2         0           0                 1   \n",
       "356    46   43         3         1           0                 0   \n",
       "\n",
       "      region_southeast  region_southwest  \n",
       "246                  1                 0  \n",
       "793                  1                 0  \n",
       "1175                 0                 1  \n",
       "467                  0                 0  \n",
       "356                  1                 0  "
      ]
     },
     "execution_count": 22,
     "metadata": {},
     "output_type": "execute_result"
    }
   ],
   "source": [
    "xtest.head()"
   ]
  },
  {
   "cell_type": "code",
   "execution_count": 23,
   "id": "b4ebcd08",
   "metadata": {},
   "outputs": [
    {
     "data": {
      "text/plain": [
       "246     12648\n",
       "793     21195\n",
       "1175     2154\n",
       "467     12643\n",
       "356      8944\n",
       "Name: charges, dtype: int32"
      ]
     },
     "execution_count": 23,
     "metadata": {},
     "output_type": "execute_result"
    }
   ],
   "source": [
    "ytest.head()"
   ]
  },
  {
   "cell_type": "code",
   "execution_count": 24,
   "id": "3071e47c",
   "metadata": {},
   "outputs": [],
   "source": [
    "from sklearn.linear_model import LinearRegression"
   ]
  },
  {
   "cell_type": "code",
   "execution_count": 25,
   "id": "53de5133",
   "metadata": {},
   "outputs": [],
   "source": [
    "reg =LinearRegression()"
   ]
  },
  {
   "cell_type": "code",
   "execution_count": 26,
   "id": "49770c97",
   "metadata": {},
   "outputs": [
    {
     "data": {
      "text/html": [
       "<style>#sk-container-id-1 {color: black;background-color: white;}#sk-container-id-1 pre{padding: 0;}#sk-container-id-1 div.sk-toggleable {background-color: white;}#sk-container-id-1 label.sk-toggleable__label {cursor: pointer;display: block;width: 100%;margin-bottom: 0;padding: 0.3em;box-sizing: border-box;text-align: center;}#sk-container-id-1 label.sk-toggleable__label-arrow:before {content: \"▸\";float: left;margin-right: 0.25em;color: #696969;}#sk-container-id-1 label.sk-toggleable__label-arrow:hover:before {color: black;}#sk-container-id-1 div.sk-estimator:hover label.sk-toggleable__label-arrow:before {color: black;}#sk-container-id-1 div.sk-toggleable__content {max-height: 0;max-width: 0;overflow: hidden;text-align: left;background-color: #f0f8ff;}#sk-container-id-1 div.sk-toggleable__content pre {margin: 0.2em;color: black;border-radius: 0.25em;background-color: #f0f8ff;}#sk-container-id-1 input.sk-toggleable__control:checked~div.sk-toggleable__content {max-height: 200px;max-width: 100%;overflow: auto;}#sk-container-id-1 input.sk-toggleable__control:checked~label.sk-toggleable__label-arrow:before {content: \"▾\";}#sk-container-id-1 div.sk-estimator input.sk-toggleable__control:checked~label.sk-toggleable__label {background-color: #d4ebff;}#sk-container-id-1 div.sk-label input.sk-toggleable__control:checked~label.sk-toggleable__label {background-color: #d4ebff;}#sk-container-id-1 input.sk-hidden--visually {border: 0;clip: rect(1px 1px 1px 1px);clip: rect(1px, 1px, 1px, 1px);height: 1px;margin: -1px;overflow: hidden;padding: 0;position: absolute;width: 1px;}#sk-container-id-1 div.sk-estimator {font-family: monospace;background-color: #f0f8ff;border: 1px dotted black;border-radius: 0.25em;box-sizing: border-box;margin-bottom: 0.5em;}#sk-container-id-1 div.sk-estimator:hover {background-color: #d4ebff;}#sk-container-id-1 div.sk-parallel-item::after {content: \"\";width: 100%;border-bottom: 1px solid gray;flex-grow: 1;}#sk-container-id-1 div.sk-label:hover label.sk-toggleable__label {background-color: #d4ebff;}#sk-container-id-1 div.sk-serial::before {content: \"\";position: absolute;border-left: 1px solid gray;box-sizing: border-box;top: 0;bottom: 0;left: 50%;z-index: 0;}#sk-container-id-1 div.sk-serial {display: flex;flex-direction: column;align-items: center;background-color: white;padding-right: 0.2em;padding-left: 0.2em;position: relative;}#sk-container-id-1 div.sk-item {position: relative;z-index: 1;}#sk-container-id-1 div.sk-parallel {display: flex;align-items: stretch;justify-content: center;background-color: white;position: relative;}#sk-container-id-1 div.sk-item::before, #sk-container-id-1 div.sk-parallel-item::before {content: \"\";position: absolute;border-left: 1px solid gray;box-sizing: border-box;top: 0;bottom: 0;left: 50%;z-index: -1;}#sk-container-id-1 div.sk-parallel-item {display: flex;flex-direction: column;z-index: 1;position: relative;background-color: white;}#sk-container-id-1 div.sk-parallel-item:first-child::after {align-self: flex-end;width: 50%;}#sk-container-id-1 div.sk-parallel-item:last-child::after {align-self: flex-start;width: 50%;}#sk-container-id-1 div.sk-parallel-item:only-child::after {width: 0;}#sk-container-id-1 div.sk-dashed-wrapped {border: 1px dashed gray;margin: 0 0.4em 0.5em 0.4em;box-sizing: border-box;padding-bottom: 0.4em;background-color: white;}#sk-container-id-1 div.sk-label label {font-family: monospace;font-weight: bold;display: inline-block;line-height: 1.2em;}#sk-container-id-1 div.sk-label-container {text-align: center;}#sk-container-id-1 div.sk-container {/* jupyter's `normalize.less` sets `[hidden] { display: none; }` but bootstrap.min.css set `[hidden] { display: none !important; }` so we also need the `!important` here to be able to override the default hidden behavior on the sphinx rendered scikit-learn.org. See: https://github.com/scikit-learn/scikit-learn/issues/21755 */display: inline-block !important;position: relative;}#sk-container-id-1 div.sk-text-repr-fallback {display: none;}</style><div id=\"sk-container-id-1\" class=\"sk-top-container\"><div class=\"sk-text-repr-fallback\"><pre>LinearRegression()</pre><b>In a Jupyter environment, please rerun this cell to show the HTML representation or trust the notebook. <br />On GitHub, the HTML representation is unable to render, please try loading this page with nbviewer.org.</b></div><div class=\"sk-container\" hidden><div class=\"sk-item\"><div class=\"sk-estimator sk-toggleable\"><input class=\"sk-toggleable__control sk-hidden--visually\" id=\"sk-estimator-id-1\" type=\"checkbox\" checked><label for=\"sk-estimator-id-1\" class=\"sk-toggleable__label sk-toggleable__label-arrow\">LinearRegression</label><div class=\"sk-toggleable__content\"><pre>LinearRegression()</pre></div></div></div></div></div>"
      ],
      "text/plain": [
       "LinearRegression()"
      ]
     },
     "execution_count": 26,
     "metadata": {},
     "output_type": "execute_result"
    }
   ],
   "source": [
    "reg.fit(xtrain,ytrain)"
   ]
  },
  {
   "cell_type": "code",
   "execution_count": 27,
   "id": "237d659d",
   "metadata": {},
   "outputs": [],
   "source": [
    "pred = reg.predict(xtest)"
   ]
  },
  {
   "cell_type": "code",
   "execution_count": 28,
   "id": "47655583",
   "metadata": {},
   "outputs": [
    {
     "data": {
      "text/plain": [
       "array([ 1.60304065e+04,  3.26732053e+04,  1.98996451e+03,  1.38872681e+04,\n",
       "        1.53274251e+04,  5.10509038e+03,  1.16836959e+04,  8.70795712e+03,\n",
       "        5.95730255e+03,  2.48808842e+03,  7.31742035e+02,  5.27742433e+03,\n",
       "        3.26053547e+04,  1.13871312e+04,  1.19410275e+04,  2.83606080e+04,\n",
       "        6.01430509e+03,  1.13696067e+04,  1.41214899e+04,  5.24403739e+03,\n",
       "        9.96234860e+03,  3.39839769e+04,  1.11313089e+04,  8.07272654e+03,\n",
       "        1.68156646e+04,  9.43795015e+03,  1.03385396e+04,  1.31852845e+04,\n",
       "        2.52379352e+03,  2.80615428e+03,  1.14806442e+04,  3.44375321e+04,\n",
       "        1.75121026e+04,  7.86581274e+03,  1.29701789e+04,  2.81101677e+03,\n",
       "        1.18644269e+04,  7.23833178e+03,  2.84684308e+04,  6.37037934e+03,\n",
       "        1.70570804e+04,  4.92210948e+03,  8.01041941e+03,  1.30084182e+04,\n",
       "        2.55259663e+04,  9.42076997e+03,  9.95395156e+03,  3.72522942e+03,\n",
       "        1.39752023e+04,  5.69237718e+03,  2.93575618e+04,  3.33322823e+04,\n",
       "        3.05339187e+04,  9.95848655e+03,  3.83420542e+04,  1.96300947e+03,\n",
       "        7.23002383e+03,  1.04989089e+04,  5.13304586e+03,  1.19739056e+04,\n",
       "        3.10516011e+04,  1.84037055e+03,  2.58350540e+04,  1.47162981e+04,\n",
       "        5.37864099e+03,  1.59372568e+04,  6.72082106e+03,  1.48731328e+04,\n",
       "        9.56682938e+03,  2.17335180e+03,  6.68611639e+03,  1.34305623e+04,\n",
       "        1.18123469e+04,  8.34009694e+03,  3.96884875e+03,  5.04764573e+03,\n",
       "        1.03116737e+04,  1.90990912e+04,  1.51090132e+04,  1.01688289e+04,\n",
       "        3.31405121e+04,  3.04422609e+04,  8.75172914e+03,  3.21923108e+03,\n",
       "        1.17629692e+04,  1.64581564e+04,  7.14031955e+03,  1.59866345e+04,\n",
       "        4.24052331e+03,  1.52634697e+04,  3.03165963e+04,  2.76148774e+04,\n",
       "        1.54115075e+04,  2.79014532e+04,  1.38141499e+04,  7.43706245e+03,\n",
       "        4.89035872e+03,  1.09700777e+04,  7.85113967e+03,  5.52779285e+03,\n",
       "        1.80870579e+04,  8.15579831e+03,  1.15982958e+04,  1.15598284e+04,\n",
       "        3.80943090e+04,  2.89672250e+04,  3.35545893e+04,  1.52698914e+04,\n",
       "        2.43783507e+03,  1.01144099e+04,  6.31284560e+03,  1.13386750e+04,\n",
       "        3.25199546e+04,  5.94433743e+03,  1.35584167e+04,  9.21418367e+03,\n",
       "        9.71719558e+03,  2.61438671e+03,  4.38236766e+03,  2.22626410e+03,\n",
       "        3.84143645e+03,  3.89168980e+03,  6.15714987e+03,  1.18480520e+04,\n",
       "        1.44928847e+04,  5.13392148e+03,  4.09072605e+04,  1.42980059e+04,\n",
       "        1.87127979e+04,  3.97173589e+03,  1.58963612e+04,  9.44578887e+03,\n",
       "        3.21400237e+04,  3.83312789e+04,  3.87967567e+03,  5.73415096e+03,\n",
       "        1.17982322e+04,  1.11457511e+04,  4.61957858e+03,  1.25295894e+03,\n",
       "        3.80631389e+04,  9.40754965e+03,  4.56438737e+03,  1.50515686e+04,\n",
       "        1.03505934e+04,  7.69435441e+03,  9.47046500e+03,  1.52979359e+04,\n",
       "        1.00733759e+04,  7.08034077e+03, -1.00053644e+03,  3.15415588e+04,\n",
       "        1.00993305e+04,  9.01067961e+03,  1.08162543e+03,  9.36377763e+03,\n",
       "        5.90760752e+03,  1.83277679e+03,  3.50101026e+04,  1.14230747e+04,\n",
       "        2.69470428e+04,  1.05721803e+04,  3.33083137e+04,  6.34398262e+03,\n",
       "        3.90703764e+04,  1.04261209e+04,  2.39188609e+04,  1.60222148e+04,\n",
       "        2.84769723e+03,  1.00046470e+04,  4.67280817e+03,  7.75890126e+03,\n",
       "        4.23145596e+03,  1.13085053e+04,  1.09663716e+04,  4.80621975e+03,\n",
       "        1.00686127e+04,  9.34167487e+03,  3.33320541e+04,  6.49811158e+03,\n",
       "        3.82838223e+03,  7.87980267e+03,  1.70251307e+03,  1.68813009e+04,\n",
       "        2.30730990e+02,  3.47728917e+04,  1.34429294e+04,  2.59782828e+04,\n",
       "        3.12076662e+04,  2.62427661e+04,  8.75164004e+03,  1.73129027e+04,\n",
       "        8.08091827e+03,  9.52075801e+03,  2.77388941e+04,  1.17758452e+04,\n",
       "        6.93083590e+03,  2.72723596e+04,  1.01341242e+04,  1.23324142e+04,\n",
       "        4.88731572e+03,  1.39054731e+04,  5.04343067e+03,  7.89530191e+03,\n",
       "        3.55591501e+04,  1.09055172e+04,  2.70576379e+03,  1.67309374e+04,\n",
       "        7.92257425e+03,  1.13381167e+04,  2.92403001e+03,  8.43289368e+03,\n",
       "        8.39400703e+03,  9.18333085e+03,  1.21016352e+04,  1.65923077e+04,\n",
       "        3.36891414e+03,  9.01090781e+03,  8.11096576e+03,  8.50577080e+03,\n",
       "        4.10583061e+03,  7.82740189e+03,  2.51765251e+04,  3.54321576e+04,\n",
       "        1.19514855e+04,  4.34666255e+03,  2.77388941e+04,  5.46613314e+03,\n",
       "        1.12346858e+04,  9.91631031e+03,  1.26345784e+04,  7.30889074e+03,\n",
       "        3.35660478e+04,  1.39369631e+04,  1.87439680e+04,  1.17863923e+04,\n",
       "        1.00468731e+04,  4.63388580e+03,  2.67091973e+04,  5.37080228e+03,\n",
       "        2.66935732e+04,  1.07057193e+04,  1.01973427e+04,  3.83137814e+04,\n",
       "        2.79351575e+04,  2.10485381e+03,  3.04184314e+04,  1.29405649e+04,\n",
       "        1.20367609e+04,  1.21458763e+04,  8.36805242e+03,  3.14190089e+04,\n",
       "        1.44580057e+04,  1.32732187e+04,  3.61699328e+04,  1.23490631e+04,\n",
       "        9.39005217e+03,  7.34025596e+03,  6.86387160e+03,  3.66252749e+04,\n",
       "        2.71703106e+04,  1.05564426e+04,  2.78218567e+03,  4.30842597e+03,\n",
       "        3.17913150e+04,  2.78093930e+04,  5.89455331e+03,  3.41797313e+04,\n",
       "        3.36166184e+04,  1.37726961e+04,  1.49442007e+04,  3.11080479e+04,\n",
       "        2.93490426e+04,  6.61180533e+03,  3.51850810e+03,  7.87017347e+03,\n",
       "        3.08361323e+04,  1.19174614e+04,  8.74719678e+03,  7.60930730e+03,\n",
       "        5.49344120e+03,  1.26196375e+04,  1.08866785e+04,  7.87732512e+03,\n",
       "        8.76292422e+03,  6.50869176e+03,  8.60566973e+03,  1.22509017e+04,\n",
       "        3.17804149e+04,  1.11460711e+04,  2.86939917e+04,  9.25695525e+03,\n",
       "        3.43588144e+04,  3.68857815e+04,  7.27441427e+03,  1.46751898e+03,\n",
       "        2.71227656e+04,  5.49945331e+03,  1.24358477e+04,  5.59966954e+03,\n",
       "        4.76229854e+03,  3.89779157e+03,  1.66855465e+04,  2.33849446e+03,\n",
       "        1.07778910e+04,  8.39731339e+03,  4.81841527e+03,  5.69603655e+03,\n",
       "        2.42609947e+04,  3.78847138e+04,  6.95325859e+03,  9.57557943e+03,\n",
       "        9.74334531e+03,  4.65515886e+03,  5.40559604e+03,  1.35523750e+04,\n",
       "        6.89504171e+03,  1.15723412e+04,  1.69377452e+04,  2.89707497e+03,\n",
       "        2.60397815e+03,  6.16068442e+03,  1.43047550e+04,  9.55899723e+03,\n",
       "        3.74021978e+03,  7.39451906e+03,  1.39523375e+04,  1.39128595e+04,\n",
       "        6.55623673e+03, -2.72312849e+01,  1.21541843e+04,  7.98423660e+03,\n",
       "        8.29526439e+03,  1.05332605e+04,  8.12630914e+03,  7.65859987e+03,\n",
       "       -5.55969612e+02,  1.35306355e+04,  2.37319912e+03,  8.56798883e+03,\n",
       "        1.15234157e+04,  4.65662578e+03,  1.38515630e+04,  1.77240037e+04,\n",
       "        7.23682246e+03,  1.48850975e+04,  3.97897663e+03,  1.11890810e+04,\n",
       "        2.81001633e+03,  4.36940254e+03,  2.54289545e+04,  7.54288440e+03,\n",
       "        6.61212262e+03,  1.12495019e+04,  1.44764416e+04,  5.37057408e+03,\n",
       "        7.83808546e+03,  4.31605077e+03,  1.27451635e+04,  1.04936934e+04,\n",
       "        3.26385006e+04,  7.99961102e+03,  6.28212779e+03,  3.64692084e+03,\n",
       "        4.95013173e+03,  1.34802573e+04,  1.35616808e+04,  1.52944014e+04,\n",
       "        6.42351983e+03,  7.62338632e+03,  1.37183510e+03,  7.56025969e+03,\n",
       "        3.46316056e+04,  5.02975804e+03,  7.97970161e+03,  2.62134261e+04,\n",
       "        6.65751349e+03,  5.09734076e+03,  4.58519121e+03,  3.89788066e+03,\n",
       "        8.56372433e+03,  9.36432576e+03,  1.24187006e+04,  1.64055640e+04,\n",
       "        1.80277266e+04,  1.02983913e+04,  1.19439641e+04,  1.18945966e+04,\n",
       "        7.64401196e+03,  3.40939262e+03,  2.92504716e+04,  7.55572470e+03,\n",
       "        1.21900116e+04,  2.56115713e+03,  1.54961354e+04,  9.48320192e+03,\n",
       "        1.35271009e+04,  9.13487465e+03,  2.00455242e+03,  1.77775863e+04,\n",
       "        3.26245760e+03,  1.65164766e+04])"
      ]
     },
     "execution_count": 28,
     "metadata": {},
     "output_type": "execute_result"
    }
   ],
   "source": [
    "pred"
   ]
  },
  {
   "cell_type": "markdown",
   "id": "c3fdfff1",
   "metadata": {},
   "source": [
    "# DataFrame Create"
   ]
  },
  {
   "cell_type": "code",
   "execution_count": 29,
   "id": "afd7cc49",
   "metadata": {},
   "outputs": [],
   "source": [
    "df_pred = pd.DataFrame({'Actual':ytest,'Prediction':pred,'Difference':abs(ytest-pred)})"
   ]
  },
  {
   "cell_type": "code",
   "execution_count": 30,
   "id": "7b0d0c07",
   "metadata": {},
   "outputs": [
    {
     "data": {
      "text/html": [
       "<div>\n",
       "<style scoped>\n",
       "    .dataframe tbody tr th:only-of-type {\n",
       "        vertical-align: middle;\n",
       "    }\n",
       "\n",
       "    .dataframe tbody tr th {\n",
       "        vertical-align: top;\n",
       "    }\n",
       "\n",
       "    .dataframe thead th {\n",
       "        text-align: right;\n",
       "    }\n",
       "</style>\n",
       "<table border=\"1\" class=\"dataframe\">\n",
       "  <thead>\n",
       "    <tr style=\"text-align: right;\">\n",
       "      <th></th>\n",
       "      <th>Actual</th>\n",
       "      <th>Prediction</th>\n",
       "      <th>Difference</th>\n",
       "    </tr>\n",
       "  </thead>\n",
       "  <tbody>\n",
       "    <tr>\n",
       "      <th>246</th>\n",
       "      <td>12648</td>\n",
       "      <td>16030.406511</td>\n",
       "      <td>3382.406511</td>\n",
       "    </tr>\n",
       "    <tr>\n",
       "      <th>793</th>\n",
       "      <td>21195</td>\n",
       "      <td>32673.205295</td>\n",
       "      <td>11478.205295</td>\n",
       "    </tr>\n",
       "    <tr>\n",
       "      <th>1175</th>\n",
       "      <td>2154</td>\n",
       "      <td>1989.964513</td>\n",
       "      <td>164.035487</td>\n",
       "    </tr>\n",
       "    <tr>\n",
       "      <th>467</th>\n",
       "      <td>12643</td>\n",
       "      <td>13887.268071</td>\n",
       "      <td>1244.268071</td>\n",
       "    </tr>\n",
       "    <tr>\n",
       "      <th>356</th>\n",
       "      <td>8944</td>\n",
       "      <td>15327.425100</td>\n",
       "      <td>6383.425100</td>\n",
       "    </tr>\n",
       "  </tbody>\n",
       "</table>\n",
       "</div>"
      ],
      "text/plain": [
       "      Actual    Prediction    Difference\n",
       "246    12648  16030.406511   3382.406511\n",
       "793    21195  32673.205295  11478.205295\n",
       "1175    2154   1989.964513    164.035487\n",
       "467    12643  13887.268071   1244.268071\n",
       "356     8944  15327.425100   6383.425100"
      ]
     },
     "execution_count": 30,
     "metadata": {},
     "output_type": "execute_result"
    }
   ],
   "source": [
    "df_pred.head()"
   ]
  },
  {
   "cell_type": "markdown",
   "id": "6b742004",
   "metadata": {},
   "source": [
    "# Coefficient,Intercept,Accuracy"
   ]
  },
  {
   "cell_type": "code",
   "execution_count": 31,
   "id": "1a7af4f0",
   "metadata": {},
   "outputs": [],
   "source": [
    "m=reg.coef_"
   ]
  },
  {
   "cell_type": "code",
   "execution_count": 32,
   "id": "48ca7e1d",
   "metadata": {},
   "outputs": [
    {
     "data": {
      "text/plain": [
       "array([  264.48326262,   321.92791176,   444.5668309 ,    56.4442144 ,\n",
       "       24232.43981978,  -943.91937073,  -579.21987819, -1028.09086658])"
      ]
     },
     "execution_count": 32,
     "metadata": {},
     "output_type": "execute_result"
    }
   ],
   "source": [
    "m"
   ]
  },
  {
   "cell_type": "code",
   "execution_count": 33,
   "id": "7460672d",
   "metadata": {},
   "outputs": [],
   "source": [
    "c= reg.intercept_"
   ]
  },
  {
   "cell_type": "code",
   "execution_count": 34,
   "id": "a1d4ab00",
   "metadata": {},
   "outputs": [
    {
     "data": {
      "text/plain": [
       "-11492.630015280653"
      ]
     },
     "execution_count": 34,
     "metadata": {},
     "output_type": "execute_result"
    }
   ],
   "source": [
    "c"
   ]
  },
  {
   "cell_type": "code",
   "execution_count": 35,
   "id": "987defdd",
   "metadata": {},
   "outputs": [
    {
     "data": {
      "text/plain": [
       "0.6577546031595782"
      ]
     },
     "execution_count": 35,
     "metadata": {},
     "output_type": "execute_result"
    }
   ],
   "source": [
    "reg.score(xtest,ytest)"
   ]
  },
  {
   "cell_type": "markdown",
   "id": "e4a2483b",
   "metadata": {},
   "source": [
    "# Step 2: USing Label Encoding"
   ]
  },
  {
   "cell_type": "code",
   "execution_count": 36,
   "id": "8d67274f",
   "metadata": {},
   "outputs": [],
   "source": [
    "df =pd.read_excel('insurance.xlsx')"
   ]
  },
  {
   "cell_type": "code",
   "execution_count": 37,
   "id": "d9bf1b69",
   "metadata": {},
   "outputs": [
    {
     "data": {
      "text/html": [
       "<div>\n",
       "<style scoped>\n",
       "    .dataframe tbody tr th:only-of-type {\n",
       "        vertical-align: middle;\n",
       "    }\n",
       "\n",
       "    .dataframe tbody tr th {\n",
       "        vertical-align: top;\n",
       "    }\n",
       "\n",
       "    .dataframe thead th {\n",
       "        text-align: right;\n",
       "    }\n",
       "</style>\n",
       "<table border=\"1\" class=\"dataframe\">\n",
       "  <thead>\n",
       "    <tr style=\"text-align: right;\">\n",
       "      <th></th>\n",
       "      <th>age</th>\n",
       "      <th>sex</th>\n",
       "      <th>bmi</th>\n",
       "      <th>children</th>\n",
       "      <th>smoker</th>\n",
       "      <th>region</th>\n",
       "      <th>charges</th>\n",
       "    </tr>\n",
       "  </thead>\n",
       "  <tbody>\n",
       "    <tr>\n",
       "      <th>0</th>\n",
       "      <td>19</td>\n",
       "      <td>female</td>\n",
       "      <td>27.900</td>\n",
       "      <td>0</td>\n",
       "      <td>yes</td>\n",
       "      <td>southwest</td>\n",
       "      <td>16884.92400</td>\n",
       "    </tr>\n",
       "    <tr>\n",
       "      <th>1</th>\n",
       "      <td>18</td>\n",
       "      <td>male</td>\n",
       "      <td>33.770</td>\n",
       "      <td>1</td>\n",
       "      <td>no</td>\n",
       "      <td>southeast</td>\n",
       "      <td>1725.55230</td>\n",
       "    </tr>\n",
       "    <tr>\n",
       "      <th>2</th>\n",
       "      <td>28</td>\n",
       "      <td>male</td>\n",
       "      <td>33.000</td>\n",
       "      <td>3</td>\n",
       "      <td>no</td>\n",
       "      <td>southeast</td>\n",
       "      <td>4449.46200</td>\n",
       "    </tr>\n",
       "    <tr>\n",
       "      <th>3</th>\n",
       "      <td>33</td>\n",
       "      <td>male</td>\n",
       "      <td>22.705</td>\n",
       "      <td>0</td>\n",
       "      <td>no</td>\n",
       "      <td>northwest</td>\n",
       "      <td>21984.47061</td>\n",
       "    </tr>\n",
       "    <tr>\n",
       "      <th>4</th>\n",
       "      <td>32</td>\n",
       "      <td>male</td>\n",
       "      <td>28.880</td>\n",
       "      <td>0</td>\n",
       "      <td>no</td>\n",
       "      <td>northwest</td>\n",
       "      <td>3866.85520</td>\n",
       "    </tr>\n",
       "  </tbody>\n",
       "</table>\n",
       "</div>"
      ],
      "text/plain": [
       "   age     sex     bmi  children smoker     region      charges\n",
       "0   19  female  27.900         0    yes  southwest  16884.92400\n",
       "1   18    male  33.770         1     no  southeast   1725.55230\n",
       "2   28    male  33.000         3     no  southeast   4449.46200\n",
       "3   33    male  22.705         0     no  northwest  21984.47061\n",
       "4   32    male  28.880         0     no  northwest   3866.85520"
      ]
     },
     "execution_count": 37,
     "metadata": {},
     "output_type": "execute_result"
    }
   ],
   "source": [
    "df.head()"
   ]
  },
  {
   "cell_type": "code",
   "execution_count": 38,
   "id": "f700ff7b",
   "metadata": {},
   "outputs": [],
   "source": [
    "from sklearn.preprocessing import LabelEncoder"
   ]
  },
  {
   "cell_type": "code",
   "execution_count": 39,
   "id": "e1d574b9",
   "metadata": {},
   "outputs": [],
   "source": [
    "le = LabelEncoder()"
   ]
  },
  {
   "cell_type": "code",
   "execution_count": 40,
   "id": "02debff8",
   "metadata": {},
   "outputs": [],
   "source": [
    "df1 =df.copy()"
   ]
  },
  {
   "cell_type": "code",
   "execution_count": 41,
   "id": "4102a912",
   "metadata": {},
   "outputs": [],
   "source": [
    "df1.sex = le.fit_transform(df1.sex)\n",
    "df1.smoker =le.fit_transform(df1.smoker)\n",
    "df1.region = le.fit_transform(df1.region)"
   ]
  },
  {
   "cell_type": "code",
   "execution_count": 42,
   "id": "7c1da434",
   "metadata": {},
   "outputs": [
    {
     "data": {
      "text/html": [
       "<div>\n",
       "<style scoped>\n",
       "    .dataframe tbody tr th:only-of-type {\n",
       "        vertical-align: middle;\n",
       "    }\n",
       "\n",
       "    .dataframe tbody tr th {\n",
       "        vertical-align: top;\n",
       "    }\n",
       "\n",
       "    .dataframe thead th {\n",
       "        text-align: right;\n",
       "    }\n",
       "</style>\n",
       "<table border=\"1\" class=\"dataframe\">\n",
       "  <thead>\n",
       "    <tr style=\"text-align: right;\">\n",
       "      <th></th>\n",
       "      <th>age</th>\n",
       "      <th>sex</th>\n",
       "      <th>bmi</th>\n",
       "      <th>children</th>\n",
       "      <th>smoker</th>\n",
       "      <th>region</th>\n",
       "      <th>charges</th>\n",
       "    </tr>\n",
       "  </thead>\n",
       "  <tbody>\n",
       "    <tr>\n",
       "      <th>0</th>\n",
       "      <td>19</td>\n",
       "      <td>0</td>\n",
       "      <td>27.900</td>\n",
       "      <td>0</td>\n",
       "      <td>1</td>\n",
       "      <td>3</td>\n",
       "      <td>16884.92400</td>\n",
       "    </tr>\n",
       "    <tr>\n",
       "      <th>1</th>\n",
       "      <td>18</td>\n",
       "      <td>1</td>\n",
       "      <td>33.770</td>\n",
       "      <td>1</td>\n",
       "      <td>0</td>\n",
       "      <td>2</td>\n",
       "      <td>1725.55230</td>\n",
       "    </tr>\n",
       "    <tr>\n",
       "      <th>2</th>\n",
       "      <td>28</td>\n",
       "      <td>1</td>\n",
       "      <td>33.000</td>\n",
       "      <td>3</td>\n",
       "      <td>0</td>\n",
       "      <td>2</td>\n",
       "      <td>4449.46200</td>\n",
       "    </tr>\n",
       "    <tr>\n",
       "      <th>3</th>\n",
       "      <td>33</td>\n",
       "      <td>1</td>\n",
       "      <td>22.705</td>\n",
       "      <td>0</td>\n",
       "      <td>0</td>\n",
       "      <td>1</td>\n",
       "      <td>21984.47061</td>\n",
       "    </tr>\n",
       "    <tr>\n",
       "      <th>4</th>\n",
       "      <td>32</td>\n",
       "      <td>1</td>\n",
       "      <td>28.880</td>\n",
       "      <td>0</td>\n",
       "      <td>0</td>\n",
       "      <td>1</td>\n",
       "      <td>3866.85520</td>\n",
       "    </tr>\n",
       "  </tbody>\n",
       "</table>\n",
       "</div>"
      ],
      "text/plain": [
       "   age  sex     bmi  children  smoker  region      charges\n",
       "0   19    0  27.900         0       1       3  16884.92400\n",
       "1   18    1  33.770         1       0       2   1725.55230\n",
       "2   28    1  33.000         3       0       2   4449.46200\n",
       "3   33    1  22.705         0       0       1  21984.47061\n",
       "4   32    1  28.880         0       0       1   3866.85520"
      ]
     },
     "execution_count": 42,
     "metadata": {},
     "output_type": "execute_result"
    }
   ],
   "source": [
    "df1.head()"
   ]
  },
  {
   "cell_type": "markdown",
   "id": "cc74ca19",
   "metadata": {},
   "source": [
    "# Train the Model"
   ]
  },
  {
   "cell_type": "code",
   "execution_count": 43,
   "id": "a7c27061",
   "metadata": {},
   "outputs": [],
   "source": [
    "x = df1.drop('charges',axis=1)\n",
    "y=df1['charges']"
   ]
  },
  {
   "cell_type": "code",
   "execution_count": 44,
   "id": "e1db662e",
   "metadata": {},
   "outputs": [],
   "source": [
    "xtrain,xtest,ytrain,ytest = tts(x,y,test_size = 0.3 , random_state =74)"
   ]
  },
  {
   "cell_type": "code",
   "execution_count": 45,
   "id": "caacbb58",
   "metadata": {},
   "outputs": [
    {
     "data": {
      "text/html": [
       "<div>\n",
       "<style scoped>\n",
       "    .dataframe tbody tr th:only-of-type {\n",
       "        vertical-align: middle;\n",
       "    }\n",
       "\n",
       "    .dataframe tbody tr th {\n",
       "        vertical-align: top;\n",
       "    }\n",
       "\n",
       "    .dataframe thead th {\n",
       "        text-align: right;\n",
       "    }\n",
       "</style>\n",
       "<table border=\"1\" class=\"dataframe\">\n",
       "  <thead>\n",
       "    <tr style=\"text-align: right;\">\n",
       "      <th></th>\n",
       "      <th>age</th>\n",
       "      <th>sex</th>\n",
       "      <th>bmi</th>\n",
       "      <th>children</th>\n",
       "      <th>smoker</th>\n",
       "      <th>region</th>\n",
       "    </tr>\n",
       "  </thead>\n",
       "  <tbody>\n",
       "    <tr>\n",
       "      <th>448</th>\n",
       "      <td>40</td>\n",
       "      <td>0</td>\n",
       "      <td>29.60</td>\n",
       "      <td>0</td>\n",
       "      <td>0</td>\n",
       "      <td>3</td>\n",
       "    </tr>\n",
       "    <tr>\n",
       "      <th>184</th>\n",
       "      <td>44</td>\n",
       "      <td>1</td>\n",
       "      <td>30.69</td>\n",
       "      <td>2</td>\n",
       "      <td>0</td>\n",
       "      <td>2</td>\n",
       "    </tr>\n",
       "    <tr>\n",
       "      <th>869</th>\n",
       "      <td>25</td>\n",
       "      <td>0</td>\n",
       "      <td>24.30</td>\n",
       "      <td>3</td>\n",
       "      <td>0</td>\n",
       "      <td>3</td>\n",
       "    </tr>\n",
       "    <tr>\n",
       "      <th>1143</th>\n",
       "      <td>39</td>\n",
       "      <td>1</td>\n",
       "      <td>32.34</td>\n",
       "      <td>2</td>\n",
       "      <td>0</td>\n",
       "      <td>2</td>\n",
       "    </tr>\n",
       "    <tr>\n",
       "      <th>691</th>\n",
       "      <td>47</td>\n",
       "      <td>1</td>\n",
       "      <td>36.20</td>\n",
       "      <td>1</td>\n",
       "      <td>0</td>\n",
       "      <td>3</td>\n",
       "    </tr>\n",
       "  </tbody>\n",
       "</table>\n",
       "</div>"
      ],
      "text/plain": [
       "      age  sex    bmi  children  smoker  region\n",
       "448    40    0  29.60         0       0       3\n",
       "184    44    1  30.69         2       0       2\n",
       "869    25    0  24.30         3       0       3\n",
       "1143   39    1  32.34         2       0       2\n",
       "691    47    1  36.20         1       0       3"
      ]
     },
     "execution_count": 45,
     "metadata": {},
     "output_type": "execute_result"
    }
   ],
   "source": [
    "xtrain.head()"
   ]
  },
  {
   "cell_type": "code",
   "execution_count": 46,
   "id": "2d55c77f",
   "metadata": {},
   "outputs": [
    {
     "data": {
      "text/plain": [
       "448     5910.9440\n",
       "184     7731.4271\n",
       "869     4391.6520\n",
       "1143    6338.0756\n",
       "691     8068.1850\n",
       "Name: charges, dtype: float64"
      ]
     },
     "execution_count": 46,
     "metadata": {},
     "output_type": "execute_result"
    }
   ],
   "source": [
    "ytrain.head()"
   ]
  },
  {
   "cell_type": "code",
   "execution_count": 47,
   "id": "4e118fef",
   "metadata": {},
   "outputs": [
    {
     "data": {
      "text/html": [
       "<div>\n",
       "<style scoped>\n",
       "    .dataframe tbody tr th:only-of-type {\n",
       "        vertical-align: middle;\n",
       "    }\n",
       "\n",
       "    .dataframe tbody tr th {\n",
       "        vertical-align: top;\n",
       "    }\n",
       "\n",
       "    .dataframe thead th {\n",
       "        text-align: right;\n",
       "    }\n",
       "</style>\n",
       "<table border=\"1\" class=\"dataframe\">\n",
       "  <thead>\n",
       "    <tr style=\"text-align: right;\">\n",
       "      <th></th>\n",
       "      <th>age</th>\n",
       "      <th>sex</th>\n",
       "      <th>bmi</th>\n",
       "      <th>children</th>\n",
       "      <th>smoker</th>\n",
       "      <th>region</th>\n",
       "    </tr>\n",
       "  </thead>\n",
       "  <tbody>\n",
       "    <tr>\n",
       "      <th>676</th>\n",
       "      <td>55</td>\n",
       "      <td>0</td>\n",
       "      <td>40.810</td>\n",
       "      <td>3</td>\n",
       "      <td>0</td>\n",
       "      <td>2</td>\n",
       "    </tr>\n",
       "    <tr>\n",
       "      <th>217</th>\n",
       "      <td>27</td>\n",
       "      <td>1</td>\n",
       "      <td>23.100</td>\n",
       "      <td>0</td>\n",
       "      <td>0</td>\n",
       "      <td>2</td>\n",
       "    </tr>\n",
       "    <tr>\n",
       "      <th>864</th>\n",
       "      <td>51</td>\n",
       "      <td>1</td>\n",
       "      <td>25.400</td>\n",
       "      <td>0</td>\n",
       "      <td>0</td>\n",
       "      <td>3</td>\n",
       "    </tr>\n",
       "    <tr>\n",
       "      <th>751</th>\n",
       "      <td>21</td>\n",
       "      <td>1</td>\n",
       "      <td>28.975</td>\n",
       "      <td>0</td>\n",
       "      <td>0</td>\n",
       "      <td>1</td>\n",
       "    </tr>\n",
       "    <tr>\n",
       "      <th>1106</th>\n",
       "      <td>49</td>\n",
       "      <td>0</td>\n",
       "      <td>29.925</td>\n",
       "      <td>0</td>\n",
       "      <td>0</td>\n",
       "      <td>1</td>\n",
       "    </tr>\n",
       "  </tbody>\n",
       "</table>\n",
       "</div>"
      ],
      "text/plain": [
       "      age  sex     bmi  children  smoker  region\n",
       "676    55    0  40.810         3       0       2\n",
       "217    27    1  23.100         0       0       2\n",
       "864    51    1  25.400         0       0       3\n",
       "751    21    1  28.975         0       0       1\n",
       "1106   49    0  29.925         0       0       1"
      ]
     },
     "execution_count": 47,
     "metadata": {},
     "output_type": "execute_result"
    }
   ],
   "source": [
    "xtest.head()"
   ]
  },
  {
   "cell_type": "code",
   "execution_count": 48,
   "id": "4cdfdc9f",
   "metadata": {},
   "outputs": [],
   "source": [
    "reg1 =LinearRegression()"
   ]
  },
  {
   "cell_type": "code",
   "execution_count": 49,
   "id": "1043fa84",
   "metadata": {},
   "outputs": [
    {
     "data": {
      "text/html": [
       "<style>#sk-container-id-2 {color: black;background-color: white;}#sk-container-id-2 pre{padding: 0;}#sk-container-id-2 div.sk-toggleable {background-color: white;}#sk-container-id-2 label.sk-toggleable__label {cursor: pointer;display: block;width: 100%;margin-bottom: 0;padding: 0.3em;box-sizing: border-box;text-align: center;}#sk-container-id-2 label.sk-toggleable__label-arrow:before {content: \"▸\";float: left;margin-right: 0.25em;color: #696969;}#sk-container-id-2 label.sk-toggleable__label-arrow:hover:before {color: black;}#sk-container-id-2 div.sk-estimator:hover label.sk-toggleable__label-arrow:before {color: black;}#sk-container-id-2 div.sk-toggleable__content {max-height: 0;max-width: 0;overflow: hidden;text-align: left;background-color: #f0f8ff;}#sk-container-id-2 div.sk-toggleable__content pre {margin: 0.2em;color: black;border-radius: 0.25em;background-color: #f0f8ff;}#sk-container-id-2 input.sk-toggleable__control:checked~div.sk-toggleable__content {max-height: 200px;max-width: 100%;overflow: auto;}#sk-container-id-2 input.sk-toggleable__control:checked~label.sk-toggleable__label-arrow:before {content: \"▾\";}#sk-container-id-2 div.sk-estimator input.sk-toggleable__control:checked~label.sk-toggleable__label {background-color: #d4ebff;}#sk-container-id-2 div.sk-label input.sk-toggleable__control:checked~label.sk-toggleable__label {background-color: #d4ebff;}#sk-container-id-2 input.sk-hidden--visually {border: 0;clip: rect(1px 1px 1px 1px);clip: rect(1px, 1px, 1px, 1px);height: 1px;margin: -1px;overflow: hidden;padding: 0;position: absolute;width: 1px;}#sk-container-id-2 div.sk-estimator {font-family: monospace;background-color: #f0f8ff;border: 1px dotted black;border-radius: 0.25em;box-sizing: border-box;margin-bottom: 0.5em;}#sk-container-id-2 div.sk-estimator:hover {background-color: #d4ebff;}#sk-container-id-2 div.sk-parallel-item::after {content: \"\";width: 100%;border-bottom: 1px solid gray;flex-grow: 1;}#sk-container-id-2 div.sk-label:hover label.sk-toggleable__label {background-color: #d4ebff;}#sk-container-id-2 div.sk-serial::before {content: \"\";position: absolute;border-left: 1px solid gray;box-sizing: border-box;top: 0;bottom: 0;left: 50%;z-index: 0;}#sk-container-id-2 div.sk-serial {display: flex;flex-direction: column;align-items: center;background-color: white;padding-right: 0.2em;padding-left: 0.2em;position: relative;}#sk-container-id-2 div.sk-item {position: relative;z-index: 1;}#sk-container-id-2 div.sk-parallel {display: flex;align-items: stretch;justify-content: center;background-color: white;position: relative;}#sk-container-id-2 div.sk-item::before, #sk-container-id-2 div.sk-parallel-item::before {content: \"\";position: absolute;border-left: 1px solid gray;box-sizing: border-box;top: 0;bottom: 0;left: 50%;z-index: -1;}#sk-container-id-2 div.sk-parallel-item {display: flex;flex-direction: column;z-index: 1;position: relative;background-color: white;}#sk-container-id-2 div.sk-parallel-item:first-child::after {align-self: flex-end;width: 50%;}#sk-container-id-2 div.sk-parallel-item:last-child::after {align-self: flex-start;width: 50%;}#sk-container-id-2 div.sk-parallel-item:only-child::after {width: 0;}#sk-container-id-2 div.sk-dashed-wrapped {border: 1px dashed gray;margin: 0 0.4em 0.5em 0.4em;box-sizing: border-box;padding-bottom: 0.4em;background-color: white;}#sk-container-id-2 div.sk-label label {font-family: monospace;font-weight: bold;display: inline-block;line-height: 1.2em;}#sk-container-id-2 div.sk-label-container {text-align: center;}#sk-container-id-2 div.sk-container {/* jupyter's `normalize.less` sets `[hidden] { display: none; }` but bootstrap.min.css set `[hidden] { display: none !important; }` so we also need the `!important` here to be able to override the default hidden behavior on the sphinx rendered scikit-learn.org. See: https://github.com/scikit-learn/scikit-learn/issues/21755 */display: inline-block !important;position: relative;}#sk-container-id-2 div.sk-text-repr-fallback {display: none;}</style><div id=\"sk-container-id-2\" class=\"sk-top-container\"><div class=\"sk-text-repr-fallback\"><pre>LinearRegression()</pre><b>In a Jupyter environment, please rerun this cell to show the HTML representation or trust the notebook. <br />On GitHub, the HTML representation is unable to render, please try loading this page with nbviewer.org.</b></div><div class=\"sk-container\" hidden><div class=\"sk-item\"><div class=\"sk-estimator sk-toggleable\"><input class=\"sk-toggleable__control sk-hidden--visually\" id=\"sk-estimator-id-2\" type=\"checkbox\" checked><label for=\"sk-estimator-id-2\" class=\"sk-toggleable__label sk-toggleable__label-arrow\">LinearRegression</label><div class=\"sk-toggleable__content\"><pre>LinearRegression()</pre></div></div></div></div></div>"
      ],
      "text/plain": [
       "LinearRegression()"
      ]
     },
     "execution_count": 49,
     "metadata": {},
     "output_type": "execute_result"
    }
   ],
   "source": [
    "reg1.fit(xtrain,ytrain)"
   ]
  },
  {
   "cell_type": "code",
   "execution_count": 50,
   "id": "b5652efb",
   "metadata": {},
   "outputs": [],
   "source": [
    "pred = reg1.predict(xtest)"
   ]
  },
  {
   "cell_type": "code",
   "execution_count": 51,
   "id": "ac04e7dd",
   "metadata": {},
   "outputs": [
    {
     "data": {
      "text/plain": [
       "array([ 1.67314568e+04,  2.01465097e+03,  8.79150344e+03,  2.76683078e+03,\n",
       "        1.03261027e+04,  3.19435881e+03,  2.81593135e+04,  1.20812989e+04,\n",
       "        6.11510443e+03,  3.44921319e+04,  4.95932200e+03,  1.08706496e+04,\n",
       "       -2.43403185e+01,  8.60461122e+03,  1.06859028e+04,  1.04537760e+04,\n",
       "        1.39593424e+04,  3.90741786e+04,  4.87538805e+02,  6.73075996e+03,\n",
       "        2.86066771e+04,  7.49933842e+03,  1.59878426e+04,  9.76754726e+03,\n",
       "        9.32669468e+03,  2.43153884e+03,  4.40833717e+03,  1.63578638e+04,\n",
       "        1.29269535e+04,  1.26141437e+04,  2.83656179e+04,  1.24487144e+04,\n",
       "        3.57806481e+04,  1.00490455e+04,  2.98324881e+04,  3.63920777e+04,\n",
       "        3.90735985e+04,  8.95214034e+03,  1.13946218e+04,  2.42501389e+03,\n",
       "        4.52334389e+03,  8.47588096e+03, -1.49729363e+03,  7.09181391e+03,\n",
       "        9.18824755e+03,  8.57219456e+03,  3.15727418e+03,  1.51531027e+04,\n",
       "        1.16378206e+04,  1.25724468e+04,  1.84693237e+04,  2.75438413e+04,\n",
       "        5.08126035e+03,  6.41272980e+03,  9.30288139e+03,  1.42211931e+04,\n",
       "        1.13950413e+04,  1.42735843e+04,  1.37147489e+04,  3.81444232e+03,\n",
       "        1.26582617e+04,  3.22053662e+04,  6.53147692e+03,  3.31541317e+04,\n",
       "        1.74593646e+04,  1.05606511e+04,  4.81849477e+03,  2.40788692e+03,\n",
       "        3.27250777e+03,  1.35492241e+04,  2.61163634e+04,  4.60632176e+03,\n",
       "        1.42900385e+04,  1.58220036e+03,  3.88508260e+03,  1.59747923e+04,\n",
       "        9.46995270e+03,  2.74831179e+03,  3.80428444e+03,  1.10049977e+04,\n",
       "        1.26106374e+04,  7.67263035e+03,  9.98016438e+03,  3.16990098e+04,\n",
       "        2.83370188e+04,  7.05348167e+03,  1.12874685e+04, -1.32400170e+03,\n",
       "        3.34524946e+04,  8.53678776e+03,  1.06953886e+04,  9.96801893e+03,\n",
       "        8.60239147e+03,  1.45264754e+04,  3.10562608e+04,  5.64436554e+03,\n",
       "        2.37544563e+03,  2.80481826e+03,  1.41972488e+04,  3.80840072e+04,\n",
       "        1.42608515e+04,  3.27005386e+04,  2.84521795e+04,  1.92640906e+02,\n",
       "        4.16763552e+03,  4.75745205e+03,  2.02737728e+03,  5.16090260e+03,\n",
       "        1.37212954e+04,  1.88657323e+03,  7.44870659e+03,  7.08162273e+03,\n",
       "        6.98802357e+03,  9.52258004e+03,  6.70784333e+03,  5.08193321e+03,\n",
       "        6.08822323e+03,  3.45222833e+03,  3.49154356e+04,  3.59261367e+03,\n",
       "        8.11357147e+03,  1.22606678e+03,  1.20687948e+04,  1.17799077e+04,\n",
       "        2.96627210e+04,  3.26100347e+04,  1.11655748e+04,  3.21545438e+04,\n",
       "        3.64453839e+04,  9.23412742e+03,  1.68518394e+04,  1.58263363e+04,\n",
       "        3.01156377e+03,  5.53677200e+03,  1.13212791e+04,  1.05890373e+04,\n",
       "        2.80958472e+04,  5.36591740e+03,  1.19724913e+04,  2.58822790e+04,\n",
       "        5.74690282e+03,  8.52880995e+03,  5.56827538e+03,  3.81266631e+04,\n",
       "        2.95121800e+04,  1.48911527e+04,  4.06688157e+04,  7.10138439e+03,\n",
       "        3.31643970e+03,  8.94762720e+03,  1.69782031e+04,  1.22357004e+04,\n",
       "        1.01526459e+04,  3.61323486e+04,  3.61775580e+03,  4.53745529e+03,\n",
       "        9.51797140e+03, -7.18206746e+02,  2.88515837e+04,  1.21396496e+04,\n",
       "        1.60530572e+04,  1.48496620e+04,  8.35361365e+03,  1.18489906e+04,\n",
       "        1.15340526e+04,  4.94225315e+03,  6.65178832e+03,  1.23723630e+04,\n",
       "        2.70964192e+04,  1.02953583e+03,  1.26918477e+04,  2.55161905e+03,\n",
       "       -1.98761348e+03,  3.63422865e+04,  7.49040259e+03,  3.53715913e+04,\n",
       "        2.48456637e+03,  3.07199882e+04,  3.12066181e+04,  4.25660721e+03,\n",
       "        7.28051402e+03,  1.50079629e+03,  2.93312907e+03,  2.66320869e+04,\n",
       "        1.77722715e+04,  3.57539267e+04,  1.39032989e+04,  3.58196316e+04,\n",
       "        2.61157105e+04,  6.99257406e+03,  4.65125287e+03,  1.44355682e+04,\n",
       "        5.94203708e+03,  2.87003972e+04,  3.51586668e+04,  3.85960288e+04,\n",
       "        1.05361646e+04,  2.93934629e+04,  1.10289842e+04,  9.92346223e+03,\n",
       "        6.66425421e+03,  1.09284345e+04,  1.53831126e+04,  2.84940835e+04,\n",
       "        2.41758816e+04,  2.86150928e+04,  1.30472367e+04,  1.29535224e+04,\n",
       "        1.31641524e+04,  2.46987136e+04,  5.88114227e+03,  2.07954245e+03,\n",
       "        1.18212515e+04,  6.96768269e+03,  4.28214762e+03,  2.65879470e+04,\n",
       "        9.83239404e+03,  6.97006770e+03,  6.30687377e+03,  3.32672202e+03,\n",
       "        1.29687739e+04,  5.18944626e+03,  1.84997971e+03,  4.81539606e+03,\n",
       "        9.03536937e+03,  1.52928087e+04,  1.60971783e+04,  1.07311640e+04,\n",
       "        9.46453749e+03,  1.18737149e+04,  1.10446468e+04,  4.48824143e+03,\n",
       "        7.37098369e+03,  8.35952040e+03,  1.58201099e+04,  9.86836010e+03,\n",
       "        1.31818818e+04,  3.73775943e+04,  7.03085651e+02,  1.24833296e+04,\n",
       "        1.33101956e+04,  6.15905005e+02,  1.17771155e+04,  3.87262092e+04,\n",
       "        1.58121159e+04,  1.20660026e+04,  1.19497480e+04,  1.14480507e+04,\n",
       "        1.59065572e+04,  1.13195958e+04,  3.72589366e+03,  2.69747359e+03,\n",
       "        7.81075735e+03,  1.16821423e+04,  4.77153921e+03,  6.39373895e+03,\n",
       "        3.63600485e+03,  7.75763622e+03,  1.13101798e+04,  8.25717690e+03,\n",
       "        1.00753764e+04,  3.07095749e+04,  1.37782953e+04,  6.73949661e+03,\n",
       "        1.40847485e+04,  4.49581208e+03,  1.24422699e+04,  7.46041836e+03,\n",
       "        1.44013482e+04,  3.32039191e+04,  7.69130686e+03,  3.39251406e+04,\n",
       "        9.59983809e+03,  1.14795845e+04,  2.61832783e+03,  1.76905697e+04,\n",
       "        1.37935291e+04,  7.68706145e+03,  3.51642311e+04,  3.70251261e+04,\n",
       "        3.41050194e+04,  4.94539582e+03,  3.33461363e+03,  1.28032210e+04,\n",
       "        1.71068482e+03,  4.02512859e+03,  6.89088641e+03,  8.10675110e+03,\n",
       "        2.00651097e+03,  1.15805873e+04,  1.19412632e+04,  1.63346684e+03,\n",
       "        8.06652764e+03,  3.56022055e+04,  6.17379685e+03,  8.33145283e+03,\n",
       "        8.78306184e+03,  1.59749110e+04,  1.65906705e+03,  3.31324573e+04,\n",
       "        9.52495625e+03,  1.70158138e+04,  3.67898470e+04,  1.06705658e+04,\n",
       "        4.20369790e+03,  9.90707444e+03,  5.48968234e+03,  7.03992357e+02,\n",
       "        3.17843937e+03,  2.47217253e+03,  2.98302606e+04,  1.42958735e+04,\n",
       "        6.96352466e+03,  2.77717081e+04,  1.52599667e+04,  2.64944257e+03,\n",
       "        3.14240068e+04,  9.25660137e+03,  5.21494275e+03,  1.07393471e+04,\n",
       "        1.22962464e+04,  7.05526264e+03,  8.41494032e+03,  8.23632868e+03,\n",
       "        1.51080842e+04,  1.50173580e+04,  1.22192471e+04,  5.49964458e+03,\n",
       "        1.19409409e+04,  3.44232029e+04,  9.64204285e+03,  8.93291336e+03,\n",
       "        2.70875035e+04,  1.28118763e+04,  1.49845693e+04,  2.66121582e+04,\n",
       "        7.57925415e+03,  1.05644467e+04,  3.49814440e+04,  9.44315238e+03,\n",
       "        7.74014710e+03,  3.01636541e+03,  8.49608016e+03, -2.24534046e+03,\n",
       "        3.85091276e+02,  1.27768455e+03,  1.85850449e+03,  2.73403910e+04,\n",
       "        6.81423513e+03,  6.89838277e+03,  1.07197107e+04,  1.26538021e+04,\n",
       "        1.44040498e+04,  2.77157516e+04,  5.28192420e+03,  1.21500779e+04,\n",
       "        1.41388973e+04,  2.10746138e+03,  1.64147832e+04,  9.28867063e+03,\n",
       "        7.29605793e+03,  1.40535128e+04,  1.13239908e+04,  3.90073844e+04,\n",
       "        9.26470402e+03,  3.22144102e+04,  1.36412825e+04,  1.34022333e+04,\n",
       "        9.09002820e+03,  6.83812315e+03,  1.84112947e+03,  4.95999832e+03,\n",
       "        2.26910647e+04,  1.23216400e+04,  5.43028000e+03,  1.02499247e+04,\n",
       "        3.88543662e+03,  2.45581018e+04,  5.03267314e+03,  1.05407047e+04,\n",
       "        9.18849291e+03,  3.77497078e+03,  8.29623517e+03,  2.61371145e+04,\n",
       "        5.33318492e+03,  3.26113497e+03,  1.13275194e+04,  1.26151617e+04,\n",
       "        8.33739424e+03,  9.27532799e+03,  1.15281529e+04,  1.58730279e+03,\n",
       "        1.19196177e+04,  1.11024225e+04,  1.38846066e+04,  5.75181228e+02,\n",
       "        6.95121543e+03,  1.17068349e+04,  1.14961407e+04,  1.21762612e+04,\n",
       "        8.11684700e+03,  1.08497821e+02])"
      ]
     },
     "execution_count": 51,
     "metadata": {},
     "output_type": "execute_result"
    }
   ],
   "source": [
    "pred"
   ]
  },
  {
   "cell_type": "code",
   "execution_count": 52,
   "id": "a0f2afa2",
   "metadata": {},
   "outputs": [],
   "source": [
    "df_pred = pd.DataFrame({'Actual':ytest,'Prediction':pred,'Difference':abs(ytest-pred)})"
   ]
  },
  {
   "cell_type": "code",
   "execution_count": 53,
   "id": "4ec20eb1",
   "metadata": {},
   "outputs": [
    {
     "data": {
      "text/html": [
       "<div>\n",
       "<style scoped>\n",
       "    .dataframe tbody tr th:only-of-type {\n",
       "        vertical-align: middle;\n",
       "    }\n",
       "\n",
       "    .dataframe tbody tr th {\n",
       "        vertical-align: top;\n",
       "    }\n",
       "\n",
       "    .dataframe thead th {\n",
       "        text-align: right;\n",
       "    }\n",
       "</style>\n",
       "<table border=\"1\" class=\"dataframe\">\n",
       "  <thead>\n",
       "    <tr style=\"text-align: right;\">\n",
       "      <th></th>\n",
       "      <th>Actual</th>\n",
       "      <th>Prediction</th>\n",
       "      <th>Difference</th>\n",
       "    </tr>\n",
       "  </thead>\n",
       "  <tbody>\n",
       "    <tr>\n",
       "      <th>676</th>\n",
       "      <td>12485.80090</td>\n",
       "      <td>16731.456753</td>\n",
       "      <td>4245.655853</td>\n",
       "    </tr>\n",
       "    <tr>\n",
       "      <th>217</th>\n",
       "      <td>2483.73600</td>\n",
       "      <td>2014.650970</td>\n",
       "      <td>469.085030</td>\n",
       "    </tr>\n",
       "    <tr>\n",
       "      <th>864</th>\n",
       "      <td>8782.46900</td>\n",
       "      <td>8791.503443</td>\n",
       "      <td>9.034443</td>\n",
       "    </tr>\n",
       "    <tr>\n",
       "      <th>751</th>\n",
       "      <td>1906.35825</td>\n",
       "      <td>2766.830782</td>\n",
       "      <td>860.472532</td>\n",
       "    </tr>\n",
       "    <tr>\n",
       "      <th>1106</th>\n",
       "      <td>8988.15875</td>\n",
       "      <td>10326.102738</td>\n",
       "      <td>1337.943988</td>\n",
       "    </tr>\n",
       "  </tbody>\n",
       "</table>\n",
       "</div>"
      ],
      "text/plain": [
       "           Actual    Prediction   Difference\n",
       "676   12485.80090  16731.456753  4245.655853\n",
       "217    2483.73600   2014.650970   469.085030\n",
       "864    8782.46900   8791.503443     9.034443\n",
       "751    1906.35825   2766.830782   860.472532\n",
       "1106   8988.15875  10326.102738  1337.943988"
      ]
     },
     "execution_count": 53,
     "metadata": {},
     "output_type": "execute_result"
    }
   ],
   "source": [
    "df_pred.head()"
   ]
  },
  {
   "cell_type": "code",
   "execution_count": 54,
   "id": "8772d7f0",
   "metadata": {},
   "outputs": [],
   "source": [
    "acc1=reg1.score(xtest,ytest)"
   ]
  },
  {
   "cell_type": "code",
   "execution_count": 55,
   "id": "3ea5fd67",
   "metadata": {},
   "outputs": [
    {
     "data": {
      "text/plain": [
       "0.7556041736458821"
      ]
     },
     "execution_count": 55,
     "metadata": {},
     "output_type": "execute_result"
    }
   ],
   "source": [
    "acc1"
   ]
  },
  {
   "cell_type": "code",
   "execution_count": 56,
   "id": "8bc7dc57",
   "metadata": {},
   "outputs": [],
   "source": [
    "#One Hot Encoding : accuracy = 0.6577546031595782 or 66%\n",
    "#Label Encoding : accuracy =    0.7556041736458821 or 76%"
   ]
  },
  {
   "cell_type": "markdown",
   "id": "fa1a5e74",
   "metadata": {},
   "source": [
    "# Conclusion : Using Label Encoding The accuracy of the model increase"
   ]
  },
  {
   "cell_type": "markdown",
   "id": "da4b2d03",
   "metadata": {},
   "source": [
    "# Determine MAE and MSE"
   ]
  },
  {
   "cell_type": "code",
   "execution_count": 57,
   "id": "e3530f39",
   "metadata": {},
   "outputs": [],
   "source": [
    "from sklearn.metrics import mean_absolute_error, mean_squared_error,r2_score"
   ]
  },
  {
   "cell_type": "code",
   "execution_count": 58,
   "id": "4f01ba43",
   "metadata": {},
   "outputs": [],
   "source": [
    "mae = mean_absolute_error(ytest,pred)"
   ]
  },
  {
   "cell_type": "code",
   "execution_count": 59,
   "id": "d682175e",
   "metadata": {},
   "outputs": [
    {
     "data": {
      "text/plain": [
       "4034.3415940508016"
      ]
     },
     "execution_count": 59,
     "metadata": {},
     "output_type": "execute_result"
    }
   ],
   "source": [
    "mae"
   ]
  },
  {
   "cell_type": "code",
   "execution_count": 60,
   "id": "c8d3da56",
   "metadata": {},
   "outputs": [],
   "source": [
    "mse = mean_squared_error(ytest,pred)"
   ]
  },
  {
   "cell_type": "code",
   "execution_count": 61,
   "id": "588eb5fe",
   "metadata": {},
   "outputs": [
    {
     "data": {
      "text/plain": [
       "33990030.36193985"
      ]
     },
     "execution_count": 61,
     "metadata": {},
     "output_type": "execute_result"
    }
   ],
   "source": [
    "mse"
   ]
  },
  {
   "cell_type": "markdown",
   "id": "bf174f18",
   "metadata": {},
   "source": [
    "# Applying KNN Regressor"
   ]
  },
  {
   "cell_type": "code",
   "execution_count": 62,
   "id": "db0d6480",
   "metadata": {},
   "outputs": [],
   "source": [
    "from sklearn.neighbors import KNeighborsRegressor"
   ]
  },
  {
   "cell_type": "code",
   "execution_count": 63,
   "id": "b8b0d2a8",
   "metadata": {},
   "outputs": [],
   "source": [
    "reg2 =KNeighborsRegressor(n_neighbors = 10)"
   ]
  },
  {
   "cell_type": "code",
   "execution_count": 64,
   "id": "adbd4a8c",
   "metadata": {},
   "outputs": [
    {
     "data": {
      "text/html": [
       "<style>#sk-container-id-3 {color: black;background-color: white;}#sk-container-id-3 pre{padding: 0;}#sk-container-id-3 div.sk-toggleable {background-color: white;}#sk-container-id-3 label.sk-toggleable__label {cursor: pointer;display: block;width: 100%;margin-bottom: 0;padding: 0.3em;box-sizing: border-box;text-align: center;}#sk-container-id-3 label.sk-toggleable__label-arrow:before {content: \"▸\";float: left;margin-right: 0.25em;color: #696969;}#sk-container-id-3 label.sk-toggleable__label-arrow:hover:before {color: black;}#sk-container-id-3 div.sk-estimator:hover label.sk-toggleable__label-arrow:before {color: black;}#sk-container-id-3 div.sk-toggleable__content {max-height: 0;max-width: 0;overflow: hidden;text-align: left;background-color: #f0f8ff;}#sk-container-id-3 div.sk-toggleable__content pre {margin: 0.2em;color: black;border-radius: 0.25em;background-color: #f0f8ff;}#sk-container-id-3 input.sk-toggleable__control:checked~div.sk-toggleable__content {max-height: 200px;max-width: 100%;overflow: auto;}#sk-container-id-3 input.sk-toggleable__control:checked~label.sk-toggleable__label-arrow:before {content: \"▾\";}#sk-container-id-3 div.sk-estimator input.sk-toggleable__control:checked~label.sk-toggleable__label {background-color: #d4ebff;}#sk-container-id-3 div.sk-label input.sk-toggleable__control:checked~label.sk-toggleable__label {background-color: #d4ebff;}#sk-container-id-3 input.sk-hidden--visually {border: 0;clip: rect(1px 1px 1px 1px);clip: rect(1px, 1px, 1px, 1px);height: 1px;margin: -1px;overflow: hidden;padding: 0;position: absolute;width: 1px;}#sk-container-id-3 div.sk-estimator {font-family: monospace;background-color: #f0f8ff;border: 1px dotted black;border-radius: 0.25em;box-sizing: border-box;margin-bottom: 0.5em;}#sk-container-id-3 div.sk-estimator:hover {background-color: #d4ebff;}#sk-container-id-3 div.sk-parallel-item::after {content: \"\";width: 100%;border-bottom: 1px solid gray;flex-grow: 1;}#sk-container-id-3 div.sk-label:hover label.sk-toggleable__label {background-color: #d4ebff;}#sk-container-id-3 div.sk-serial::before {content: \"\";position: absolute;border-left: 1px solid gray;box-sizing: border-box;top: 0;bottom: 0;left: 50%;z-index: 0;}#sk-container-id-3 div.sk-serial {display: flex;flex-direction: column;align-items: center;background-color: white;padding-right: 0.2em;padding-left: 0.2em;position: relative;}#sk-container-id-3 div.sk-item {position: relative;z-index: 1;}#sk-container-id-3 div.sk-parallel {display: flex;align-items: stretch;justify-content: center;background-color: white;position: relative;}#sk-container-id-3 div.sk-item::before, #sk-container-id-3 div.sk-parallel-item::before {content: \"\";position: absolute;border-left: 1px solid gray;box-sizing: border-box;top: 0;bottom: 0;left: 50%;z-index: -1;}#sk-container-id-3 div.sk-parallel-item {display: flex;flex-direction: column;z-index: 1;position: relative;background-color: white;}#sk-container-id-3 div.sk-parallel-item:first-child::after {align-self: flex-end;width: 50%;}#sk-container-id-3 div.sk-parallel-item:last-child::after {align-self: flex-start;width: 50%;}#sk-container-id-3 div.sk-parallel-item:only-child::after {width: 0;}#sk-container-id-3 div.sk-dashed-wrapped {border: 1px dashed gray;margin: 0 0.4em 0.5em 0.4em;box-sizing: border-box;padding-bottom: 0.4em;background-color: white;}#sk-container-id-3 div.sk-label label {font-family: monospace;font-weight: bold;display: inline-block;line-height: 1.2em;}#sk-container-id-3 div.sk-label-container {text-align: center;}#sk-container-id-3 div.sk-container {/* jupyter's `normalize.less` sets `[hidden] { display: none; }` but bootstrap.min.css set `[hidden] { display: none !important; }` so we also need the `!important` here to be able to override the default hidden behavior on the sphinx rendered scikit-learn.org. See: https://github.com/scikit-learn/scikit-learn/issues/21755 */display: inline-block !important;position: relative;}#sk-container-id-3 div.sk-text-repr-fallback {display: none;}</style><div id=\"sk-container-id-3\" class=\"sk-top-container\"><div class=\"sk-text-repr-fallback\"><pre>KNeighborsRegressor(n_neighbors=10)</pre><b>In a Jupyter environment, please rerun this cell to show the HTML representation or trust the notebook. <br />On GitHub, the HTML representation is unable to render, please try loading this page with nbviewer.org.</b></div><div class=\"sk-container\" hidden><div class=\"sk-item\"><div class=\"sk-estimator sk-toggleable\"><input class=\"sk-toggleable__control sk-hidden--visually\" id=\"sk-estimator-id-3\" type=\"checkbox\" checked><label for=\"sk-estimator-id-3\" class=\"sk-toggleable__label sk-toggleable__label-arrow\">KNeighborsRegressor</label><div class=\"sk-toggleable__content\"><pre>KNeighborsRegressor(n_neighbors=10)</pre></div></div></div></div></div>"
      ],
      "text/plain": [
       "KNeighborsRegressor(n_neighbors=10)"
      ]
     },
     "execution_count": 64,
     "metadata": {},
     "output_type": "execute_result"
    }
   ],
   "source": [
    "reg2.fit(xtrain,ytrain)"
   ]
  },
  {
   "cell_type": "code",
   "execution_count": 65,
   "id": "bf6a29c5",
   "metadata": {},
   "outputs": [],
   "source": [
    "pred = reg2.predict(xtest)"
   ]
  },
  {
   "cell_type": "code",
   "execution_count": 66,
   "id": "e5c8904c",
   "metadata": {
    "scrolled": true
   },
   "outputs": [
    {
     "data": {
      "text/plain": [
       "array([25256.773486 ,  4683.24992  , 16737.406048 ,  6949.5819   ,\n",
       "       11887.45945  ,  5225.511935 , 10480.738163 , 15027.07252  ,\n",
       "        6208.09462  , 13001.819738 ,  5774.006751 , 14062.018483 ,\n",
       "        5034.234913 ,  9674.232475 , 12587.068045 , 22580.235681 ,\n",
       "       14321.12289  , 25835.633703 ,  5334.917728 , 10471.435954 ,\n",
       "        8499.65409  , 14151.936105 , 24567.269886 , 14178.691521 ,\n",
       "       12403.014445 ,  7214.8198819,  2919.713428 , 19054.247876 ,\n",
       "       20605.111554 , 17157.106701 , 12624.230178 , 12213.135566 ,\n",
       "       19847.203005 , 11994.58354  , 11647.97204  , 11538.513819 ,\n",
       "       28878.503778 , 13461.598901 , 16769.176471 ,  6791.1662   ,\n",
       "        9941.76191  , 19354.542279 ,  3646.461863 , 12757.714145 ,\n",
       "       18327.94466  , 21976.654085 , 12228.997614 , 20627.922405 ,\n",
       "       16755.816892 , 11309.554834 , 18108.848465 , 11164.158941 ,\n",
       "        8616.595259 , 15034.964912 ,  9658.981    , 14896.524105 ,\n",
       "       16577.402257 , 23854.378249 , 17937.77596  ,  7841.548248 ,\n",
       "       14354.03046  , 13055.268975 ,  5466.11121  , 17568.102368 ,\n",
       "       21054.684115 ,  6155.435022 ,  6949.132305 ,  7993.377159 ,\n",
       "        7187.63289  , 17696.182465 ,  6051.76225  ,  6384.335118 ,\n",
       "       28646.151722 ,  6108.58269  ,  7006.155776 , 16990.365565 ,\n",
       "       14314.21971  ,  6091.547253 , 10633.135768 , 14396.654465 ,\n",
       "       18025.52656  , 15469.324345 , 14119.050195 , 19136.67343  ,\n",
       "        9809.206913 , 12111.78672  , 10887.928515 ,  3647.174933 ,\n",
       "       17543.858668 , 15984.853393 , 12630.436375 , 11866.23524  ,\n",
       "       12531.389915 , 18624.567232 , 23648.710184 ,  7880.155315 ,\n",
       "        4871.865285 , 13219.77812  , 24101.025345 , 14327.342299 ,\n",
       "       12658.51122  , 14528.000463 ,  6669.294765 ,  1876.55907  ,\n",
       "       10974.314885 ,  4403.445175 ,  5173.243625 ,  8379.920536 ,\n",
       "       17252.731706 ,  7513.282549 ,  7898.82537  ,  7598.18876  ,\n",
       "       14813.732573 , 18356.133073 ,  7147.05617  ,  7349.784616 ,\n",
       "        7492.084945 , 11912.175473 ,  7872.537537 ,  8059.313018 ,\n",
       "       11941.18854  ,  7239.734694 , 12023.106482 , 15268.665105 ,\n",
       "       13100.747619 , 17011.356743 , 14936.521417 , 19113.189315 ,\n",
       "       21388.216045 , 13681.02332  , 23906.72415  , 24629.213203 ,\n",
       "        5443.735283 ,  6489.39293  , 12760.32161  ,  9268.127607 ,\n",
       "       15338.589825 , 17515.146324 , 16143.463785 , 10194.7914369,\n",
       "        7559.079825 , 16104.22559  ,  5786.868725 , 21706.479158 ,\n",
       "       10195.464797 , 20777.750935 , 25226.675813 ,  9164.687975 ,\n",
       "        8646.402165 , 15012.650937 , 20609.77748  ,  5152.9822   ,\n",
       "       11789.362485 , 18708.233347 , 10644.638654 ,  8314.927776 ,\n",
       "       16496.01059  ,  3004.12148  ,  9439.45976  , 16756.013561 ,\n",
       "       30928.78586  , 26951.063759 , 20732.157016 ,  8221.808579 ,\n",
       "       10861.004895 ,  5267.347995 ,  6793.78584  , 11771.174954 ,\n",
       "       15904.097683 ,  6030.874145 , 12154.402737 , 11128.007415 ,\n",
       "        3694.680763 , 12667.048974 , 11430.300223 , 22077.822839 ,\n",
       "        9109.8909869,  6323.73965  ,  8668.19529  , 11945.838433 ,\n",
       "        7803.036389 ,  3507.384685 ,  7018.710715 ,  5344.61831  ,\n",
       "       24980.219719 , 11739.168812 , 15793.435332 , 14106.805629 ,\n",
       "        6160.887265 ,  5259.433875 ,  9688.093819 , 23619.584779 ,\n",
       "       14165.773812 , 12750.522514 , 16894.051817 , 16473.064535 ,\n",
       "       14313.563996 ,  5773.896945 , 13660.2819   , 19733.097712 ,\n",
       "        5343.496795 , 15679.405985 , 21789.534111 ,  7461.5329   ,\n",
       "        4807.234335 ,  9046.619395 , 19774.728655 , 15265.639157 ,\n",
       "       12810.54973  ,  7575.820384 , 11144.26106  , 14190.78165  ,\n",
       "       16048.806305 , 13758.34856  ,  6964.184968 , 13135.870593 ,\n",
       "       15401.1246   , 10330.982064 ,  7040.565684 ,  7841.548248 ,\n",
       "       14874.410807 , 10719.455039 ,  8096.45266  ,  6386.21536  ,\n",
       "        8616.04269  , 20535.006705 , 30757.60293  , 20997.140603 ,\n",
       "       14585.949925 , 14485.14688  , 13576.191425 , 11545.568715 ,\n",
       "        8333.83245  ,  8424.81969  , 26961.529115 , 11340.142173 ,\n",
       "       12525.140809 , 25815.041183 ,  6110.572764 , 18266.626305 ,\n",
       "       19121.58932  ,  3442.82113  , 13732.580545 , 21400.075472 ,\n",
       "       24999.386156 , 14010.197709 ,  8107.322517 , 18176.489197 ,\n",
       "       30792.79723  ,  7544.8356   , 10411.815673 ,  6931.31405  ,\n",
       "       11476.388485 , 10712.71774  ,  4333.443005 , 14728.664487 ,\n",
       "        5179.597375 ,  9765.257925 , 12804.18564  ,  8008.377535 ,\n",
       "       14305.582486 , 20142.025002 , 18197.121822 , 12393.837227 ,\n",
       "       21107.155226 ,  8552.614895 , 19360.554575 , 16759.759506 ,\n",
       "       14904.66738  , 18562.394915 , 15648.395865 , 20015.653838 ,\n",
       "       13556.529987 , 13771.492145 ,  8159.246075 , 14190.30222  ,\n",
       "       21605.896838 , 14583.846682 , 11611.187472 , 19642.165011 ,\n",
       "       10388.047275 ,  8862.718128 ,  8561.753866 , 17065.130202 ,\n",
       "        3502.430602 , 10160.042201 , 16787.314525 ,  6746.327555 ,\n",
       "        4435.815077 , 14610.652156 ,  5432.100455 ,  8145.85836  ,\n",
       "       13121.91513  , 11182.90625  ,  6623.405322 , 15196.551722 ,\n",
       "       17670.666159 , 34302.14026  ,  6529.291569 , 16813.344824 ,\n",
       "       10135.19185  , 23220.714246 , 20234.314132 , 15392.087554 ,\n",
       "        3752.950735 , 15167.772301 , 14483.377983 ,  5628.475745 ,\n",
       "        8363.95247  ,  6950.33332  ,  5584.50345  , 14930.522485 ,\n",
       "       16032.224307 ,  6336.75052  , 17254.197123 ,  6705.930375 ,\n",
       "       14982.825637 , 18674.706485 , 11690.74796  , 11749.0188   ,\n",
       "       14354.57851  ,  4985.08925  , 19141.787215 , 11145.006784 ,\n",
       "       15679.661075 , 15972.748434 , 12944.998215 , 11702.22041  ,\n",
       "       15740.787108 , 16867.495438 , 13738.030173 , 14666.148511 ,\n",
       "       11672.114767 , 14478.308177 , 18146.217616 ,  6955.25837  ,\n",
       "       11850.56094  ,  6285.171722 , 14161.51893  , 13951.694551 ,\n",
       "        9590.17326  , 12805.086768 , 15196.551722 ,  4456.80329  ,\n",
       "        1978.320745 ,  6235.235365 ,  9201.61359  , 10485.806463 ,\n",
       "        7049.510285 , 19471.500565 , 17858.992214 , 17481.386871 ,\n",
       "       20895.597868 ,  4365.62196  , 12961.003165 , 19234.886416 ,\n",
       "       15741.93524  ,  8445.783172 , 25923.339147 ,  6680.32719  ,\n",
       "       20154.296926 , 20494.425965 , 11735.182967 , 24954.379533 ,\n",
       "       16208.96117  , 17531.109355 , 15826.192067 , 19505.124375 ,\n",
       "       14905.798631 , 14629.155793 , 12848.876017 ,  6571.451475 ,\n",
       "        4778.814303 , 19868.156855 , 17418.309336 , 19322.964141 ,\n",
       "        7863.867798 ,  3961.359175 ,  7593.119095 ,  7025.059575 ,\n",
       "       15694.496335 ,  8553.267496 , 15857.45975  , 13772.6531819,\n",
       "       10278.346433 , 11225.588325 , 13732.580545 , 16973.405155 ,\n",
       "        8426.448175 , 14987.283494 , 18358.252678 ,  7618.71673  ,\n",
       "       11008.638195 , 15601.721565 , 21115.327228 ,  4075.506023 ,\n",
       "       15039.599308 , 10845.56061  , 17339.40638  , 15453.298185 ,\n",
       "        6096.98343  ,  1741.521635 ])"
      ]
     },
     "execution_count": 66,
     "metadata": {},
     "output_type": "execute_result"
    }
   ],
   "source": [
    "pred"
   ]
  },
  {
   "cell_type": "markdown",
   "id": "eeeee128",
   "metadata": {},
   "source": [
    "# Accuracy ,mae, mse"
   ]
  },
  {
   "cell_type": "code",
   "execution_count": 67,
   "id": "63aebbcb",
   "metadata": {},
   "outputs": [],
   "source": [
    "acc2 =r2_score(ytest,pred)"
   ]
  },
  {
   "cell_type": "code",
   "execution_count": 68,
   "id": "5f651116",
   "metadata": {},
   "outputs": [
    {
     "data": {
      "text/plain": [
       "0.087221745917621"
      ]
     },
     "execution_count": 68,
     "metadata": {},
     "output_type": "execute_result"
    }
   ],
   "source": [
    "acc2"
   ]
  },
  {
   "cell_type": "code",
   "execution_count": 69,
   "id": "aa0429ea",
   "metadata": {},
   "outputs": [],
   "source": [
    "mae1 = mean_absolute_error(ytest,pred)"
   ]
  },
  {
   "cell_type": "code",
   "execution_count": 70,
   "id": "213b27a7",
   "metadata": {},
   "outputs": [
    {
     "data": {
      "text/plain": [
       "8521.915525341294"
      ]
     },
     "execution_count": 70,
     "metadata": {},
     "output_type": "execute_result"
    }
   ],
   "source": [
    "mae1"
   ]
  },
  {
   "cell_type": "code",
   "execution_count": 71,
   "id": "8a970a50",
   "metadata": {},
   "outputs": [],
   "source": [
    "mse1= mean_squared_error(ytest,pred)"
   ]
  },
  {
   "cell_type": "code",
   "execution_count": 72,
   "id": "9b2d2b2e",
   "metadata": {},
   "outputs": [
    {
     "data": {
      "text/plain": [
       "126947178.40649308"
      ]
     },
     "execution_count": 72,
     "metadata": {},
     "output_type": "execute_result"
    }
   ],
   "source": [
    "mse1"
   ]
  },
  {
   "cell_type": "markdown",
   "id": "5449daf6",
   "metadata": {},
   "source": [
    "# DataFrame"
   ]
  },
  {
   "cell_type": "code",
   "execution_count": 77,
   "id": "a63e65ab",
   "metadata": {},
   "outputs": [],
   "source": [
    "data = {'Name':['Linear_mae','KNN_mae'],\n",
    "       'Value':[mae,mae1]}"
   ]
  },
  {
   "cell_type": "code",
   "execution_count": 78,
   "id": "72113cc0",
   "metadata": {},
   "outputs": [],
   "source": [
    "df_new =pd.DataFrame(data=data)"
   ]
  },
  {
   "cell_type": "code",
   "execution_count": 79,
   "id": "ff5d8f06",
   "metadata": {},
   "outputs": [
    {
     "data": {
      "text/html": [
       "<div>\n",
       "<style scoped>\n",
       "    .dataframe tbody tr th:only-of-type {\n",
       "        vertical-align: middle;\n",
       "    }\n",
       "\n",
       "    .dataframe tbody tr th {\n",
       "        vertical-align: top;\n",
       "    }\n",
       "\n",
       "    .dataframe thead th {\n",
       "        text-align: right;\n",
       "    }\n",
       "</style>\n",
       "<table border=\"1\" class=\"dataframe\">\n",
       "  <thead>\n",
       "    <tr style=\"text-align: right;\">\n",
       "      <th></th>\n",
       "      <th>Name</th>\n",
       "      <th>Value</th>\n",
       "    </tr>\n",
       "  </thead>\n",
       "  <tbody>\n",
       "    <tr>\n",
       "      <th>0</th>\n",
       "      <td>Linear_mae</td>\n",
       "      <td>4034.341594</td>\n",
       "    </tr>\n",
       "    <tr>\n",
       "      <th>1</th>\n",
       "      <td>KNN_mae</td>\n",
       "      <td>8521.915525</td>\n",
       "    </tr>\n",
       "  </tbody>\n",
       "</table>\n",
       "</div>"
      ],
      "text/plain": [
       "         Name        Value\n",
       "0  Linear_mae  4034.341594\n",
       "1     KNN_mae  8521.915525"
      ]
     },
     "execution_count": 79,
     "metadata": {},
     "output_type": "execute_result"
    }
   ],
   "source": [
    "df_new.head()"
   ]
  },
  {
   "cell_type": "markdown",
   "id": "949f79a1",
   "metadata": {},
   "source": [
    "# Barplot MAE"
   ]
  },
  {
   "cell_type": "code",
   "execution_count": 80,
   "id": "7e309201",
   "metadata": {},
   "outputs": [
    {
     "data": {
      "text/plain": [
       "<Axes: xlabel='Value', ylabel='Name'>"
      ]
     },
     "execution_count": 80,
     "metadata": {},
     "output_type": "execute_result"
    },
    {
     "data": {
      "image/png": "[encoded data removed]",
      "text/plain": [
       "<Figure size 640x480 with 1 Axes>"
      ]
     },
     "metadata": {},
     "output_type": "display_data"
    }
   ],
   "source": [
    "sns.barplot(x='Value',y='Name',data= df_new)"
   ]
  },
  {
   "cell_type": "markdown",
   "id": "4368f467",
   "metadata": {},
   "source": [
    "# Barplot MSE"
   ]
  },
  {
   "cell_type": "code",
   "execution_count": 81,
   "id": "e8552377",
   "metadata": {},
   "outputs": [],
   "source": [
    "data = {'Name':['Linear_mse','KNN_mse'],\n",
    "       'Value':[mse,mse1]}"
   ]
  },
  {
   "cell_type": "code",
   "execution_count": 82,
   "id": "6c7c0d85",
   "metadata": {},
   "outputs": [],
   "source": [
    "df_new =pd.DataFrame(data=data)"
   ]
  },
  {
   "cell_type": "code",
   "execution_count": 83,
   "id": "aa6fb247",
   "metadata": {},
   "outputs": [
    {
     "data": {
      "text/html": [
       "<div>\n",
       "<style scoped>\n",
       "    .dataframe tbody tr th:only-of-type {\n",
       "        vertical-align: middle;\n",
       "    }\n",
       "\n",
       "    .dataframe tbody tr th {\n",
       "        vertical-align: top;\n",
       "    }\n",
       "\n",
       "    .dataframe thead th {\n",
       "        text-align: right;\n",
       "    }\n",
       "</style>\n",
       "<table border=\"1\" class=\"dataframe\">\n",
       "  <thead>\n",
       "    <tr style=\"text-align: right;\">\n",
       "      <th></th>\n",
       "      <th>Name</th>\n",
       "      <th>Value</th>\n",
       "    </tr>\n",
       "  </thead>\n",
       "  <tbody>\n",
       "    <tr>\n",
       "      <th>0</th>\n",
       "      <td>Linear_mse</td>\n",
       "      <td>3.399003e+07</td>\n",
       "    </tr>\n",
       "    <tr>\n",
       "      <th>1</th>\n",
       "      <td>KNN_mse</td>\n",
       "      <td>1.269472e+08</td>\n",
       "    </tr>\n",
       "  </tbody>\n",
       "</table>\n",
       "</div>"
      ],
      "text/plain": [
       "         Name         Value\n",
       "0  Linear_mse  3.399003e+07\n",
       "1     KNN_mse  1.269472e+08"
      ]
     },
     "execution_count": 83,
     "metadata": {},
     "output_type": "execute_result"
    }
   ],
   "source": [
    "df_new.head()"
   ]
  },
  {
   "cell_type": "code",
   "execution_count": 84,
   "id": "4f379363",
   "metadata": {},
   "outputs": [
    {
     "data": {
      "text/plain": [
       "<Axes: xlabel='Value', ylabel='Name'>"
      ]
     },
     "execution_count": 84,
     "metadata": {},
     "output_type": "execute_result"
    },
    {
     "data": {
      "image/png": "[encoded data removed]",
      "text/plain": [
       "<Figure size 640x480 with 1 Axes>"
      ]
     },
     "metadata": {},
     "output_type": "display_data"
    }
   ],
   "source": [
    "sns.barplot(x='Value',y='Name',data= df_new)"
   ]
  },
  {
   "cell_type": "markdown",
   "id": "e1649382",
   "metadata": {},
   "source": [
    "# Barplot Accuracy"
   ]
  },
  {
   "cell_type": "code",
   "execution_count": 85,
   "id": "2d004753",
   "metadata": {},
   "outputs": [],
   "source": [
    "data = {'Name':['Linear_Accuracy' , 'KNN_Accuracy'],\n",
    "        'Value':[acc1,acc2]}"
   ]
  },
  {
   "cell_type": "code",
   "execution_count": 86,
   "id": "40bd4d89",
   "metadata": {},
   "outputs": [],
   "source": [
    "df_new =pd.DataFrame(data=data)"
   ]
  },
  {
   "cell_type": "code",
   "execution_count": 87,
   "id": "06c9c5f1",
   "metadata": {},
   "outputs": [
    {
     "data": {
      "text/html": [
       "<div>\n",
       "<style scoped>\n",
       "    .dataframe tbody tr th:only-of-type {\n",
       "        vertical-align: middle;\n",
       "    }\n",
       "\n",
       "    .dataframe tbody tr th {\n",
       "        vertical-align: top;\n",
       "    }\n",
       "\n",
       "    .dataframe thead th {\n",
       "        text-align: right;\n",
       "    }\n",
       "</style>\n",
       "<table border=\"1\" class=\"dataframe\">\n",
       "  <thead>\n",
       "    <tr style=\"text-align: right;\">\n",
       "      <th></th>\n",
       "      <th>Name</th>\n",
       "      <th>Value</th>\n",
       "    </tr>\n",
       "  </thead>\n",
       "  <tbody>\n",
       "    <tr>\n",
       "      <th>0</th>\n",
       "      <td>Linear_Accuracy</td>\n",
       "      <td>0.755604</td>\n",
       "    </tr>\n",
       "    <tr>\n",
       "      <th>1</th>\n",
       "      <td>KNN_Accuracy</td>\n",
       "      <td>0.087222</td>\n",
       "    </tr>\n",
       "  </tbody>\n",
       "</table>\n",
       "</div>"
      ],
      "text/plain": [
       "              Name     Value\n",
       "0  Linear_Accuracy  0.755604\n",
       "1     KNN_Accuracy  0.087222"
      ]
     },
     "execution_count": 87,
     "metadata": {},
     "output_type": "execute_result"
    }
   ],
   "source": [
    "df_new.head()"
   ]
  },
  {
   "cell_type": "code",
   "execution_count": 88,
   "id": "f1b7c289",
   "metadata": {},
   "outputs": [
    {
     "data": {
      "text/plain": [
       "<Axes: xlabel='Value', ylabel='Name'>"
      ]
     },
     "execution_count": 88,
     "metadata": {},
     "output_type": "execute_result"
    },
    {
     "data": {
      "image/png": "[encoded data removed]",
      "text/plain": [
       "<Figure size 640x480 with 1 Axes>"
      ]
     },
     "metadata": {},
     "output_type": "display_data"
    }
   ],
   "source": [
    "sns.barplot(x='Value',y='Name',data= df_new)"
   ]
  },
  {
   "cell_type": "code",
   "execution_count": null,
   "id": "f205dfde",
   "metadata": {},
   "outputs": [],
   "source": []
  }
 ],
 "metadata": {
  "kernelspec": {
   "display_name": "Python 3 (ipykernel)",
   "language": "python",
   "name": "python3"
  },
  "language_info": {
   "codemirror_mode": {
    "name": "ipython",
    "version": 3
   },
   "file_extension": ".py",
   "mimetype": "text/x-python",
   "name": "python",
   "nbconvert_exporter": "python",
   "pygments_lexer": "ipython3",
   "version": "3.11.4"
  }
 },
 "nbformat": 4,
 "nbformat_minor": 5
}
